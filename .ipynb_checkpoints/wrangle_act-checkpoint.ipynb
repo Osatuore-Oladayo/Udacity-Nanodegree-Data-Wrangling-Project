{
 "cells": [
  {
   "cell_type": "markdown",
   "metadata": {
    "extensions": {
     "jupyter_dashboards": {
      "version": 1,
      "views": {
       "grid_default": {
        "col": 0,
        "height": 4,
        "hidden": false,
        "row": 0,
        "width": 4
       },
       "report_default": {
        "hidden": false
       }
      }
     }
    }
   },
   "source": [
    "# Udacity Data Wrangling with Twitter's @WeRateDogs Account"
   ]
  },
  {
   "cell_type": "markdown",
   "metadata": {},
   "source": [
    "## 1. Introduction\n",
    "\n",
    ">Real-world data rarely comes clean. This is why in this project Python and its libraries will be used to gather data all associated with Twitter's @dog_rates account from a variaty of sources and in a variety of formats. The three datasets retrieved will be assessed for quality and tidyness, followed by analsis.\n",
    "\n",
    ">@dog_rates is a Twitter account that rates people's dogs with a humorous comment about the dog. These ratings almost always have a denominator of 10, with the numerators mostly greater than 10. Example, 13/10, 12/10. @dog_rates also known as WeRatDogs has over 4 million followers and has received international media coverage.\n",
    "\n",
    ">The purpose of this project is to wrangle data from @dog_rates, find and fix 8 quality issues and 2 tidyness issues, analyse the data to find patterns and insights of interest."
   ]
  },
  {
   "cell_type": "markdown",
   "metadata": {},
   "source": [
    "### 1.1  About the datasets to be used\n",
    "\n",
    ">For this project, three datasets will merged together to form a master wrangled dataset after assessing cleaning the three datasets. The merged dataset contains several columns for which this section intendeds to explain the columns needded for the analysis process.\n",
    "- **Favourite count:** This is the number of favourite count a user gets for a dog post.\n",
    "- **life_stage:** This is the growth stage of the dog\n",
    "- **TweetId:** This is the unique or primary key associated with every user.\n",
    "- **Rating_numerator:** This is the number of vote given to a dog by the owner making the post which cannot exceed 15.\n",
    "- **Rating_denominator:** This is the denominator evey vote is generally compared against which over 10.\n",
    "- **Retweets:** This is the number of times a post is shared.\n",
    "\n"
   ]
  },
  {
   "cell_type": "markdown",
   "metadata": {},
   "source": [
    "### 1.2  Questions for analysis\n",
    "\n",
    "- What is the life stage of dog with the most favourite count\n",
    "- What life stage of dog did owners feel best about?\n",
    "- How many posts included the life stage of the dog\n",
    "- Does having the life stage of the dog included in a post increase the possibility of a higher favorite count?\n",
    "- Is there a correlation between favourite counts and the number of retweets a post gets?\n",
    "- What is the name, picture url and the life stage of the most favourite dog?"
   ]
  },
  {
   "cell_type": "markdown",
   "metadata": {},
   "source": [
    "## 2. Gathering the Datasets"
   ]
  },
  {
   "cell_type": "code",
   "execution_count": 1,
   "metadata": {
    "extensions": {
     "jupyter_dashboards": {
      "version": 1,
      "views": {
       "grid_default": {
        "hidden": true
       },
       "report_default": {
        "hidden": true
       }
      }
     }
    }
   },
   "outputs": [],
   "source": [
    "# Importing all libraries needed\n",
    "import matplotlib\n",
    "import pandas as pd\n",
    "import numpy as np\n",
    "import requests\n",
    "import tweepy\n",
    "import os\n",
    "import json\n",
    "import time\n",
    "import re\n",
    "import matplotlib.pyplot as plt\n",
    "import warnings\n",
    "import seaborn as sns\n",
    "\n",
    "%matplotlib inline\n"
   ]
  },
  {
   "cell_type": "markdown",
   "metadata": {},
   "source": [
    "### 2.1  Enhanced Twitter Archive Dataset into a dataframe"
   ]
  },
  {
   "cell_type": "code",
   "execution_count": 2,
   "metadata": {},
   "outputs": [],
   "source": [
    "# Reading the first csv file into a dataframe to be merged later\n",
    "df_twitter_archive = pd.read_csv('twitter-archive-enhanced.csv')"
   ]
  },
  {
   "cell_type": "code",
   "execution_count": 3,
   "metadata": {},
   "outputs": [
    {
     "data": {
      "text/html": [
       "<div>\n",
       "<style scoped>\n",
       "    .dataframe tbody tr th:only-of-type {\n",
       "        vertical-align: middle;\n",
       "    }\n",
       "\n",
       "    .dataframe tbody tr th {\n",
       "        vertical-align: top;\n",
       "    }\n",
       "\n",
       "    .dataframe thead th {\n",
       "        text-align: right;\n",
       "    }\n",
       "</style>\n",
       "<table border=\"1\" class=\"dataframe\">\n",
       "  <thead>\n",
       "    <tr style=\"text-align: right;\">\n",
       "      <th></th>\n",
       "      <th>tweet_id</th>\n",
       "      <th>in_reply_to_status_id</th>\n",
       "      <th>in_reply_to_user_id</th>\n",
       "      <th>timestamp</th>\n",
       "      <th>source</th>\n",
       "      <th>text</th>\n",
       "      <th>retweeted_status_id</th>\n",
       "      <th>retweeted_status_user_id</th>\n",
       "      <th>retweeted_status_timestamp</th>\n",
       "      <th>expanded_urls</th>\n",
       "      <th>rating_numerator</th>\n",
       "      <th>rating_denominator</th>\n",
       "      <th>name</th>\n",
       "      <th>doggo</th>\n",
       "      <th>floofer</th>\n",
       "      <th>pupper</th>\n",
       "      <th>puppo</th>\n",
       "    </tr>\n",
       "  </thead>\n",
       "  <tbody>\n",
       "    <tr>\n",
       "      <th>0</th>\n",
       "      <td>892420643555336193</td>\n",
       "      <td>NaN</td>\n",
       "      <td>NaN</td>\n",
       "      <td>2017-08-01 16:23:56 +0000</td>\n",
       "      <td>&lt;a href=\"http://twitter.com/download/iphone\" r...</td>\n",
       "      <td>This is Phineas. He's a mystical boy. Only eve...</td>\n",
       "      <td>NaN</td>\n",
       "      <td>NaN</td>\n",
       "      <td>NaN</td>\n",
       "      <td>https://twitter.com/dog_rates/status/892420643...</td>\n",
       "      <td>13</td>\n",
       "      <td>10</td>\n",
       "      <td>Phineas</td>\n",
       "      <td>None</td>\n",
       "      <td>None</td>\n",
       "      <td>None</td>\n",
       "      <td>None</td>\n",
       "    </tr>\n",
       "    <tr>\n",
       "      <th>1</th>\n",
       "      <td>892177421306343426</td>\n",
       "      <td>NaN</td>\n",
       "      <td>NaN</td>\n",
       "      <td>2017-08-01 00:17:27 +0000</td>\n",
       "      <td>&lt;a href=\"http://twitter.com/download/iphone\" r...</td>\n",
       "      <td>This is Tilly. She's just checking pup on you....</td>\n",
       "      <td>NaN</td>\n",
       "      <td>NaN</td>\n",
       "      <td>NaN</td>\n",
       "      <td>https://twitter.com/dog_rates/status/892177421...</td>\n",
       "      <td>13</td>\n",
       "      <td>10</td>\n",
       "      <td>Tilly</td>\n",
       "      <td>None</td>\n",
       "      <td>None</td>\n",
       "      <td>None</td>\n",
       "      <td>None</td>\n",
       "    </tr>\n",
       "    <tr>\n",
       "      <th>2</th>\n",
       "      <td>891815181378084864</td>\n",
       "      <td>NaN</td>\n",
       "      <td>NaN</td>\n",
       "      <td>2017-07-31 00:18:03 +0000</td>\n",
       "      <td>&lt;a href=\"http://twitter.com/download/iphone\" r...</td>\n",
       "      <td>This is Archie. He is a rare Norwegian Pouncin...</td>\n",
       "      <td>NaN</td>\n",
       "      <td>NaN</td>\n",
       "      <td>NaN</td>\n",
       "      <td>https://twitter.com/dog_rates/status/891815181...</td>\n",
       "      <td>12</td>\n",
       "      <td>10</td>\n",
       "      <td>Archie</td>\n",
       "      <td>None</td>\n",
       "      <td>None</td>\n",
       "      <td>None</td>\n",
       "      <td>None</td>\n",
       "    </tr>\n",
       "  </tbody>\n",
       "</table>\n",
       "</div>"
      ],
      "text/plain": [
       "             tweet_id  in_reply_to_status_id  in_reply_to_user_id  \\\n",
       "0  892420643555336193                    NaN                  NaN   \n",
       "1  892177421306343426                    NaN                  NaN   \n",
       "2  891815181378084864                    NaN                  NaN   \n",
       "\n",
       "                   timestamp  \\\n",
       "0  2017-08-01 16:23:56 +0000   \n",
       "1  2017-08-01 00:17:27 +0000   \n",
       "2  2017-07-31 00:18:03 +0000   \n",
       "\n",
       "                                              source  \\\n",
       "0  <a href=\"http://twitter.com/download/iphone\" r...   \n",
       "1  <a href=\"http://twitter.com/download/iphone\" r...   \n",
       "2  <a href=\"http://twitter.com/download/iphone\" r...   \n",
       "\n",
       "                                                text  retweeted_status_id  \\\n",
       "0  This is Phineas. He's a mystical boy. Only eve...                  NaN   \n",
       "1  This is Tilly. She's just checking pup on you....                  NaN   \n",
       "2  This is Archie. He is a rare Norwegian Pouncin...                  NaN   \n",
       "\n",
       "   retweeted_status_user_id retweeted_status_timestamp  \\\n",
       "0                       NaN                        NaN   \n",
       "1                       NaN                        NaN   \n",
       "2                       NaN                        NaN   \n",
       "\n",
       "                                       expanded_urls  rating_numerator  \\\n",
       "0  https://twitter.com/dog_rates/status/892420643...                13   \n",
       "1  https://twitter.com/dog_rates/status/892177421...                13   \n",
       "2  https://twitter.com/dog_rates/status/891815181...                12   \n",
       "\n",
       "   rating_denominator     name doggo floofer pupper puppo  \n",
       "0                  10  Phineas  None    None   None  None  \n",
       "1                  10    Tilly  None    None   None  None  \n",
       "2                  10   Archie  None    None   None  None  "
      ]
     },
     "execution_count": 3,
     "metadata": {},
     "output_type": "execute_result"
    }
   ],
   "source": [
    "# Checking the first 5 rows of the dataframe\n",
    "df_twitter_archive.head(3)"
   ]
  },
  {
   "cell_type": "markdown",
   "metadata": {},
   "source": [
    "### 2.2  The tweet image prediction file"
   ]
  },
  {
   "cell_type": "code",
   "execution_count": 4,
   "metadata": {},
   "outputs": [],
   "source": [
    "# Storing the url into a variable called 'url'\n",
    "url = 'https://d17h27t6h515a5.cloudfront.net/topher/2017/August/599fd2ad_image-predictions/image-predictions.tsv'"
   ]
  },
  {
   "cell_type": "code",
   "execution_count": 5,
   "metadata": {},
   "outputs": [],
   "source": [
    "# downloading the url file programmatically\n",
    "response=requests.get('https://d17h27t6h515a5.cloudfront.net/topher/2017/August/599fd2ad_image-predictions/image-predictions.tsv')"
   ]
  },
  {
   "cell_type": "code",
   "execution_count": 6,
   "metadata": {},
   "outputs": [],
   "source": [
    "# Creating a folder called 'Data-wrangling if it does not exist already'\n",
    "folder_name = 'Data-wrangling'\n",
    "if not os.path.exists(folder_name):\n",
    "    os.makedirs(folder_name)"
   ]
  },
  {
   "cell_type": "code",
   "execution_count": 7,
   "metadata": {},
   "outputs": [],
   "source": [
    "# Saving the file into the created folder\n",
    "with open(os.path.join(folder_name, url.split('/')[-1]), mode = 'wb') as file:\n",
    "    file.write(response.content)"
   ]
  },
  {
   "cell_type": "code",
   "execution_count": 8,
   "metadata": {},
   "outputs": [
    {
     "data": {
      "text/plain": [
       "['image-predictions.tsv']"
      ]
     },
     "execution_count": 8,
     "metadata": {},
     "output_type": "execute_result"
    }
   ],
   "source": [
    "# Checking to see the file is saved into the folder\n",
    "os.listdir('Data-wrangling')"
   ]
  },
  {
   "cell_type": "code",
   "execution_count": 9,
   "metadata": {},
   "outputs": [],
   "source": [
    "# Reading the second csv file into a dataframe to be merged later\n",
    "df_image_predictions = pd.read_csv('image-predictions.tsv', sep=('\\t'))"
   ]
  },
  {
   "cell_type": "code",
   "execution_count": 10,
   "metadata": {},
   "outputs": [
    {
     "data": {
      "text/html": [
       "<div>\n",
       "<style scoped>\n",
       "    .dataframe tbody tr th:only-of-type {\n",
       "        vertical-align: middle;\n",
       "    }\n",
       "\n",
       "    .dataframe tbody tr th {\n",
       "        vertical-align: top;\n",
       "    }\n",
       "\n",
       "    .dataframe thead th {\n",
       "        text-align: right;\n",
       "    }\n",
       "</style>\n",
       "<table border=\"1\" class=\"dataframe\">\n",
       "  <thead>\n",
       "    <tr style=\"text-align: right;\">\n",
       "      <th></th>\n",
       "      <th>tweet_id</th>\n",
       "      <th>jpg_url</th>\n",
       "      <th>img_num</th>\n",
       "      <th>p1</th>\n",
       "      <th>p1_conf</th>\n",
       "      <th>p1_dog</th>\n",
       "      <th>p2</th>\n",
       "      <th>p2_conf</th>\n",
       "      <th>p2_dog</th>\n",
       "      <th>p3</th>\n",
       "      <th>p3_conf</th>\n",
       "      <th>p3_dog</th>\n",
       "    </tr>\n",
       "  </thead>\n",
       "  <tbody>\n",
       "    <tr>\n",
       "      <th>0</th>\n",
       "      <td>666020888022790149</td>\n",
       "      <td>https://pbs.twimg.com/media/CT4udn0WwAA0aMy.jpg</td>\n",
       "      <td>1</td>\n",
       "      <td>Welsh_springer_spaniel</td>\n",
       "      <td>0.465074</td>\n",
       "      <td>True</td>\n",
       "      <td>collie</td>\n",
       "      <td>0.156665</td>\n",
       "      <td>True</td>\n",
       "      <td>Shetland_sheepdog</td>\n",
       "      <td>0.061428</td>\n",
       "      <td>True</td>\n",
       "    </tr>\n",
       "    <tr>\n",
       "      <th>1</th>\n",
       "      <td>666029285002620928</td>\n",
       "      <td>https://pbs.twimg.com/media/CT42GRgUYAA5iDo.jpg</td>\n",
       "      <td>1</td>\n",
       "      <td>redbone</td>\n",
       "      <td>0.506826</td>\n",
       "      <td>True</td>\n",
       "      <td>miniature_pinscher</td>\n",
       "      <td>0.074192</td>\n",
       "      <td>True</td>\n",
       "      <td>Rhodesian_ridgeback</td>\n",
       "      <td>0.072010</td>\n",
       "      <td>True</td>\n",
       "    </tr>\n",
       "    <tr>\n",
       "      <th>2</th>\n",
       "      <td>666033412701032449</td>\n",
       "      <td>https://pbs.twimg.com/media/CT4521TWwAEvMyu.jpg</td>\n",
       "      <td>1</td>\n",
       "      <td>German_shepherd</td>\n",
       "      <td>0.596461</td>\n",
       "      <td>True</td>\n",
       "      <td>malinois</td>\n",
       "      <td>0.138584</td>\n",
       "      <td>True</td>\n",
       "      <td>bloodhound</td>\n",
       "      <td>0.116197</td>\n",
       "      <td>True</td>\n",
       "    </tr>\n",
       "    <tr>\n",
       "      <th>3</th>\n",
       "      <td>666044226329800704</td>\n",
       "      <td>https://pbs.twimg.com/media/CT5Dr8HUEAA-lEu.jpg</td>\n",
       "      <td>1</td>\n",
       "      <td>Rhodesian_ridgeback</td>\n",
       "      <td>0.408143</td>\n",
       "      <td>True</td>\n",
       "      <td>redbone</td>\n",
       "      <td>0.360687</td>\n",
       "      <td>True</td>\n",
       "      <td>miniature_pinscher</td>\n",
       "      <td>0.222752</td>\n",
       "      <td>True</td>\n",
       "    </tr>\n",
       "    <tr>\n",
       "      <th>4</th>\n",
       "      <td>666049248165822465</td>\n",
       "      <td>https://pbs.twimg.com/media/CT5IQmsXIAAKY4A.jpg</td>\n",
       "      <td>1</td>\n",
       "      <td>miniature_pinscher</td>\n",
       "      <td>0.560311</td>\n",
       "      <td>True</td>\n",
       "      <td>Rottweiler</td>\n",
       "      <td>0.243682</td>\n",
       "      <td>True</td>\n",
       "      <td>Doberman</td>\n",
       "      <td>0.154629</td>\n",
       "      <td>True</td>\n",
       "    </tr>\n",
       "  </tbody>\n",
       "</table>\n",
       "</div>"
      ],
      "text/plain": [
       "             tweet_id                                          jpg_url  \\\n",
       "0  666020888022790149  https://pbs.twimg.com/media/CT4udn0WwAA0aMy.jpg   \n",
       "1  666029285002620928  https://pbs.twimg.com/media/CT42GRgUYAA5iDo.jpg   \n",
       "2  666033412701032449  https://pbs.twimg.com/media/CT4521TWwAEvMyu.jpg   \n",
       "3  666044226329800704  https://pbs.twimg.com/media/CT5Dr8HUEAA-lEu.jpg   \n",
       "4  666049248165822465  https://pbs.twimg.com/media/CT5IQmsXIAAKY4A.jpg   \n",
       "\n",
       "   img_num                      p1   p1_conf  p1_dog                  p2  \\\n",
       "0        1  Welsh_springer_spaniel  0.465074    True              collie   \n",
       "1        1                 redbone  0.506826    True  miniature_pinscher   \n",
       "2        1         German_shepherd  0.596461    True            malinois   \n",
       "3        1     Rhodesian_ridgeback  0.408143    True             redbone   \n",
       "4        1      miniature_pinscher  0.560311    True          Rottweiler   \n",
       "\n",
       "    p2_conf  p2_dog                   p3   p3_conf  p3_dog  \n",
       "0  0.156665    True    Shetland_sheepdog  0.061428    True  \n",
       "1  0.074192    True  Rhodesian_ridgeback  0.072010    True  \n",
       "2  0.138584    True           bloodhound  0.116197    True  \n",
       "3  0.360687    True   miniature_pinscher  0.222752    True  \n",
       "4  0.243682    True             Doberman  0.154629    True  "
      ]
     },
     "execution_count": 10,
     "metadata": {},
     "output_type": "execute_result"
    }
   ],
   "source": [
    "df_image_predictions.head()"
   ]
  },
  {
   "cell_type": "markdown",
   "metadata": {},
   "source": [
    "### 2.3  Additional data via the Twitter API"
   ]
  },
  {
   "cell_type": "code",
   "execution_count": 11,
   "metadata": {},
   "outputs": [],
   "source": [
    "# Making use of my consumer,Oathentication keys in order to querry the Twitter API\n",
    "CONSUMER_KEY = ''\n",
    "CONSUMER_SECRET = ''\n",
    "OAUTH_TOKEN = ''\n",
    "OAUTH_TOKEN_SECRET = ''"
   ]
  },
  {
   "cell_type": "code",
   "execution_count": 12,
   "metadata": {},
   "outputs": [],
   "source": [
    "# Making use of tweepy\n",
    "\n",
    "auth = tweepy.OAuthHandler(CONSUMER_KEY, CONSUMER_SECRET)\n",
    "auth.set_access_token(OAUTH_TOKEN, OAUTH_TOKEN_SECRET)\n",
    "api = tweepy.API(auth, wait_on_rate_limit=True, wait_on_rate_limit_notify=True)"
   ]
  },
  {
   "cell_type": "code",
   "execution_count": 13,
   "metadata": {},
   "outputs": [],
   "source": [
    "# Making a list of the tweetids related to tweets from the 'df_twitter_archive' dataframe\n",
    "tweet_ids = df_twitter_archive['tweet_id']"
   ]
  },
  {
   "cell_type": "code",
   "execution_count": 14,
   "metadata": {},
   "outputs": [
    {
     "name": "stdout",
     "output_type": "stream",
     "text": [
      "888202515573088257 _ [{'code': 144, 'message': 'No status found with that ID.'}]\n",
      "873697596434513921 _ [{'code': 144, 'message': 'No status found with that ID.'}]\n",
      "872668790621863937 _ [{'code': 144, 'message': 'No status found with that ID.'}]\n",
      "872261713294495745 _ [{'code': 144, 'message': 'No status found with that ID.'}]\n",
      "869988702071779329 _ [{'code': 144, 'message': 'No status found with that ID.'}]\n",
      "866816280283807744 _ [{'code': 144, 'message': 'No status found with that ID.'}]\n",
      "861769973181624320 _ [{'code': 144, 'message': 'No status found with that ID.'}]\n",
      "856602993587888130 _ [{'code': 144, 'message': 'No status found with that ID.'}]\n",
      "856330835276025856 _ [{'code': 34, 'message': 'Sorry, that page does not exist.'}]\n",
      "851953902622658560 _ [{'code': 144, 'message': 'No status found with that ID.'}]\n",
      "851861385021730816 _ [{'code': 144, 'message': 'No status found with that ID.'}]\n",
      "845459076796616705 _ [{'code': 144, 'message': 'No status found with that ID.'}]\n",
      "844704788403113984 _ [{'code': 144, 'message': 'No status found with that ID.'}]\n",
      "842892208864923648 _ [{'code': 144, 'message': 'No status found with that ID.'}]\n",
      "837366284874571778 _ [{'code': 144, 'message': 'No status found with that ID.'}]\n",
      "837012587749474308 _ [{'code': 144, 'message': 'No status found with that ID.'}]\n",
      "829374341691346946 _ [{'code': 144, 'message': 'No status found with that ID.'}]\n",
      "827228250799742977 _ [{'code': 144, 'message': 'No status found with that ID.'}]\n",
      "812747805718642688 _ [{'code': 144, 'message': 'No status found with that ID.'}]\n",
      "802247111496568832 _ [{'code': 144, 'message': 'No status found with that ID.'}]\n",
      "779123168116150273 _ [{'code': 144, 'message': 'No status found with that ID.'}]\n",
      "775096608509886464 _ [{'code': 144, 'message': 'No status found with that ID.'}]\n",
      "771004394259247104 _ [{'code': 179, 'message': 'Sorry, you are not authorized to see this status.'}]\n",
      "770743923962707968 _ [{'code': 144, 'message': 'No status found with that ID.'}]\n",
      "766864461642756096 _ [{'code': 144, 'message': 'No status found with that ID.'}]\n",
      "759923798737051648 _ [{'code': 144, 'message': 'No status found with that ID.'}]\n",
      "759566828574212096 _ [{'code': 144, 'message': 'No status found with that ID.'}]\n",
      "Rate limit reached. Sleeping for: 752\n",
      "754011816964026368 _ [{'code': 144, 'message': 'No status found with that ID.'}]\n",
      "680055455951884288 _ [{'code': 144, 'message': 'No status found with that ID.'}]\n",
      "Rate limit reached. Sleeping for: 751\n",
      "Total time taken for execution 1900.5310418605804\n"
     ]
    }
   ],
   "source": [
    "# Making a list for tweets that have errors\n",
    "error_tweet_list = []\n",
    "\n",
    "# List of tweets\n",
    "tweets_list = []\n",
    "\n",
    "# The execution start time\n",
    "start = time.time()\n",
    "\n",
    "# For loop to add tweets in the json form to the already created list called 'tweets_list'\n",
    "for tweet_id in tweet_ids:\n",
    "    try:\n",
    "        tweet = api.get_status(tweet_id, tweet_mode= 'extended')._json \n",
    "        favorite = tweet['favorite_count'] # number of favorites for the tweet\n",
    "        retweet = tweet['retweet_count'] # number of retweets\n",
    "        user_followers = tweet['user']['followers_count'] # number of followers of the user who tweeted\n",
    "        user_favourites = tweet['user']['favourites_count'] # number of favourites for the user who tweeted\n",
    "        date_time = tweet['created_at'] # the timestamp i.e. date and time of creation of the tweet\n",
    "        \n",
    "        tweets_list.append({'tweet_id': int(tweet_id),\n",
    "                        'favorites': int(favorite),\n",
    "                        'retweets': int(retweet),\n",
    "                        'user_followers': int(user_followers),\n",
    "                        'user_favourites': int(user_favourites),\n",
    "                        'date_time': pd.to_datetime(date_time)})\n",
    "    except Exception as e:\n",
    "        print(str(tweet_id)+ \" _ \" + str(e))\n",
    "        error_tweet_list.append(tweet_id)\n",
    "        \n",
    "# end time for excution\n",
    "end = time.time()\n",
    "\n",
    "#printing time for execution\n",
    "print(\"Total time taken for execution\", end - start)"
   ]
  },
  {
   "cell_type": "code",
   "execution_count": 15,
   "metadata": {},
   "outputs": [
    {
     "name": "stdout",
     "output_type": "stream",
     "text": [
      "The lengh of the result 2327\n",
      "The lengh of the errors 29\n"
     ]
    }
   ],
   "source": [
    "# To now get the total tweets that were received from the api\n",
    "print(\"The lengh of the result\", len(tweets_list))\n",
    "\n",
    "# The tweet_id of the errors received from api\n",
    "# To also get the total tweet ids from the api with errors\n",
    "print(\"The lengh of the errors\", len(error_tweet_list))"
   ]
  },
  {
   "cell_type": "code",
   "execution_count": 16,
   "metadata": {},
   "outputs": [],
   "source": [
    "# creating DataFrames\n",
    "df_tweets = pd.DataFrame(tweets_list, columns = ['tweet_id', 'favorites', 'retweets',\n",
    "                                               'user_followers', 'user_favourites', 'date_time'])\n",
    "# saving the dataFrame to file\n",
    "df_tweets.to_csv('tweet_json.txt', encoding = 'utf-8', index=False)"
   ]
  },
  {
   "cell_type": "code",
   "execution_count": 17,
   "metadata": {},
   "outputs": [],
   "source": [
    "# Read the saved tweet_json.txt file into a dataframe, the third file to be merged later\n",
    "df_api = pd.read_csv('tweet_json.txt', encoding = 'utf-8')"
   ]
  },
  {
   "cell_type": "code",
   "execution_count": 18,
   "metadata": {},
   "outputs": [
    {
     "data": {
      "text/html": [
       "<div>\n",
       "<style scoped>\n",
       "    .dataframe tbody tr th:only-of-type {\n",
       "        vertical-align: middle;\n",
       "    }\n",
       "\n",
       "    .dataframe tbody tr th {\n",
       "        vertical-align: top;\n",
       "    }\n",
       "\n",
       "    .dataframe thead th {\n",
       "        text-align: right;\n",
       "    }\n",
       "</style>\n",
       "<table border=\"1\" class=\"dataframe\">\n",
       "  <thead>\n",
       "    <tr style=\"text-align: right;\">\n",
       "      <th></th>\n",
       "      <th>tweet_id</th>\n",
       "      <th>favorites</th>\n",
       "      <th>retweets</th>\n",
       "      <th>user_followers</th>\n",
       "      <th>user_favourites</th>\n",
       "      <th>date_time</th>\n",
       "    </tr>\n",
       "  </thead>\n",
       "  <tbody>\n",
       "    <tr>\n",
       "      <th>0</th>\n",
       "      <td>892420643555336193</td>\n",
       "      <td>33919</td>\n",
       "      <td>7052</td>\n",
       "      <td>9243705</td>\n",
       "      <td>147113</td>\n",
       "      <td>2017-08-01 16:23:56</td>\n",
       "    </tr>\n",
       "    <tr>\n",
       "      <th>1</th>\n",
       "      <td>892177421306343426</td>\n",
       "      <td>29410</td>\n",
       "      <td>5327</td>\n",
       "      <td>9243705</td>\n",
       "      <td>147113</td>\n",
       "      <td>2017-08-01 00:17:27</td>\n",
       "    </tr>\n",
       "    <tr>\n",
       "      <th>2</th>\n",
       "      <td>891815181378084864</td>\n",
       "      <td>22123</td>\n",
       "      <td>3503</td>\n",
       "      <td>9243705</td>\n",
       "      <td>147113</td>\n",
       "      <td>2017-07-31 00:18:03</td>\n",
       "    </tr>\n",
       "    <tr>\n",
       "      <th>3</th>\n",
       "      <td>891689557279858688</td>\n",
       "      <td>37040</td>\n",
       "      <td>7260</td>\n",
       "      <td>9243705</td>\n",
       "      <td>147113</td>\n",
       "      <td>2017-07-30 15:58:51</td>\n",
       "    </tr>\n",
       "    <tr>\n",
       "      <th>4</th>\n",
       "      <td>891327558926688256</td>\n",
       "      <td>35412</td>\n",
       "      <td>7802</td>\n",
       "      <td>9243705</td>\n",
       "      <td>147113</td>\n",
       "      <td>2017-07-29 16:00:24</td>\n",
       "    </tr>\n",
       "  </tbody>\n",
       "</table>\n",
       "</div>"
      ],
      "text/plain": [
       "             tweet_id  favorites  retweets  user_followers  user_favourites  \\\n",
       "0  892420643555336193      33919      7052         9243705           147113   \n",
       "1  892177421306343426      29410      5327         9243705           147113   \n",
       "2  891815181378084864      22123      3503         9243705           147113   \n",
       "3  891689557279858688      37040      7260         9243705           147113   \n",
       "4  891327558926688256      35412      7802         9243705           147113   \n",
       "\n",
       "             date_time  \n",
       "0  2017-08-01 16:23:56  \n",
       "1  2017-08-01 00:17:27  \n",
       "2  2017-07-31 00:18:03  \n",
       "3  2017-07-30 15:58:51  \n",
       "4  2017-07-29 16:00:24  "
      ]
     },
     "execution_count": 18,
     "metadata": {},
     "output_type": "execute_result"
    }
   ],
   "source": [
    "# Checking the first 5 rows of the dataframe.\n",
    "df_api.head()"
   ]
  },
  {
   "cell_type": "markdown",
   "metadata": {
    "extensions": {
     "jupyter_dashboards": {
      "version": 1,
      "views": {
       "grid_default": {
        "col": 4,
        "height": 4,
        "hidden": false,
        "row": 28,
        "width": 4
       },
       "report_default": {
        "hidden": false
       }
      }
     }
    }
   },
   "source": [
    "## 3.  Assessing Data\n",
    "In this section, detect and document at least **eight (8) quality issues and two (2) tidiness issue**. You must use **both** visual assessment\n",
    "programmatic assessement to assess the data.\n",
    "\n",
    "**Note:** pay attention to the following key points when you access the data.\n",
    "\n",
    "* You only want original ratings (no retweets) that have images. Though there are 5000+ tweets in the dataset, not all are dog ratings and some are retweets.\n",
    "* Assessing and cleaning the entire dataset completely would require a lot of time, and is not necessary to practice and demonstrate your skills in data wrangling. Therefore, the requirements of this project are only to assess and clean at least 8 quality issues and at least 2 tidiness issues in this dataset.\n",
    "* The fact that the rating numerators are greater than the denominators does not need to be cleaned. This [unique rating system](http://knowyourmeme.com/memes/theyre-good-dogs-brent) is a big part of the popularity of WeRateDogs.\n",
    "* You do not need to gather the tweets beyond August 1st, 2017. You can, but note that you won't be able to gather the image predictions for these tweets since you don't have access to the algorithm used.\n",
    "\n"
   ]
  },
  {
   "cell_type": "code",
   "execution_count": 19,
   "metadata": {},
   "outputs": [],
   "source": [
    "# The three datasets to eventually be merged\n",
    "# df_twitter_archive\n",
    "# df_image_predictions\n",
    "# df_api"
   ]
  },
  {
   "cell_type": "code",
   "execution_count": 20,
   "metadata": {},
   "outputs": [
    {
     "data": {
      "text/plain": [
       "0"
      ]
     },
     "execution_count": 20,
     "metadata": {},
     "output_type": "execute_result"
    }
   ],
   "source": [
    "# Checking to be sure there are no duplicated rows of ids here\n",
    "df_twitter_archive.duplicated().sum()"
   ]
  },
  {
   "cell_type": "code",
   "execution_count": 21,
   "metadata": {},
   "outputs": [
    {
     "data": {
      "text/plain": [
       "12      558\n",
       "11      464\n",
       "10      461\n",
       "13      351\n",
       "9       158\n",
       "8       102\n",
       "7        55\n",
       "14       54\n",
       "5        37\n",
       "6        32\n",
       "3        19\n",
       "4        17\n",
       "1         9\n",
       "2         9\n",
       "420       2\n",
       "0         2\n",
       "15        2\n",
       "75        2\n",
       "80        1\n",
       "20        1\n",
       "24        1\n",
       "26        1\n",
       "44        1\n",
       "50        1\n",
       "60        1\n",
       "165       1\n",
       "84        1\n",
       "88        1\n",
       "144       1\n",
       "182       1\n",
       "143       1\n",
       "666       1\n",
       "960       1\n",
       "1776      1\n",
       "17        1\n",
       "27        1\n",
       "45        1\n",
       "99        1\n",
       "121       1\n",
       "204       1\n",
       "Name: rating_numerator, dtype: int64"
      ]
     },
     "execution_count": 21,
     "metadata": {},
     "output_type": "execute_result"
    }
   ],
   "source": [
    "# Checking to see the kinds of numerator ratings given as response\n",
    "df_twitter_archive.rating_numerator.value_counts()"
   ]
  },
  {
   "cell_type": "code",
   "execution_count": 22,
   "metadata": {},
   "outputs": [
    {
     "data": {
      "text/plain": [
       "12      558\n",
       "11      464\n",
       "10      461\n",
       "13      351\n",
       "9       158\n",
       "8       102\n",
       "7        55\n",
       "14       54\n",
       "5        37\n",
       "6        32\n",
       "3        19\n",
       "4        17\n",
       "1         9\n",
       "2         9\n",
       "420       2\n",
       "0         2\n",
       "15        2\n",
       "75        2\n",
       "80        1\n",
       "20        1\n",
       "24        1\n",
       "26        1\n",
       "44        1\n",
       "50        1\n",
       "60        1\n",
       "165       1\n",
       "84        1\n",
       "88        1\n",
       "144       1\n",
       "182       1\n",
       "143       1\n",
       "666       1\n",
       "960       1\n",
       "1776      1\n",
       "17        1\n",
       "27        1\n",
       "45        1\n",
       "99        1\n",
       "121       1\n",
       "204       1\n",
       "Name: rating_numerator, dtype: int64"
      ]
     },
     "execution_count": 22,
     "metadata": {},
     "output_type": "execute_result"
    }
   ],
   "source": [
    "# Checking to see if the denominator for all records is 10\n",
    "df_twitter_archive.rating_numerator.value_counts()"
   ]
  },
  {
   "cell_type": "code",
   "execution_count": 23,
   "metadata": {},
   "outputs": [
    {
     "data": {
      "text/plain": [
       "502          Baron\n",
       "1649     Sebastian\n",
       "1032         Sugar\n",
       "291           None\n",
       "607         Cooper\n",
       "1077          None\n",
       "706         Dallas\n",
       "2238         Alfie\n",
       "1357          None\n",
       "2209      Jomathan\n",
       "588     Longfellow\n",
       "1602       Lorelei\n",
       "2133       Winston\n",
       "1736          Mike\n",
       "260        Stephan\n",
       "1482         Oscar\n",
       "357           Kyro\n",
       "1221         Blitz\n",
       "2155          None\n",
       "823         Carbon\n",
       "2339          None\n",
       "1517          None\n",
       "771        Solomon\n",
       "1706          None\n",
       "1388        Murphy\n",
       "2047     Scruffers\n",
       "1392          Eazy\n",
       "2208          Maks\n",
       "1049             a\n",
       "559        Winston\n",
       "1242          None\n",
       "1194       Skittle\n",
       "112           None\n",
       "1220          None\n",
       "1055          Phil\n",
       "1574          None\n",
       "47            None\n",
       "575          Bones\n",
       "1093          None\n",
       "1173         Derek\n",
       "240         Barney\n",
       "381        Ralphie\n",
       "1583          None\n",
       "2348             a\n",
       "337          Eevee\n",
       "439         Oliver\n",
       "2342          None\n",
       "740           None\n",
       "1646          None\n",
       "957            Max\n",
       "Name: name, dtype: object"
      ]
     },
     "execution_count": 23,
     "metadata": {},
     "output_type": "execute_result"
    }
   ],
   "source": [
    "# visually assessing a random sample of data of size 50 for observational purpose from df_twitter_archive.name\n",
    "df_twitter_archive.name.sample(50)"
   ]
  },
  {
   "cell_type": "code",
   "execution_count": 24,
   "metadata": {},
   "outputs": [
    {
     "data": {
      "text/html": [
       "<div>\n",
       "<style scoped>\n",
       "    .dataframe tbody tr th:only-of-type {\n",
       "        vertical-align: middle;\n",
       "    }\n",
       "\n",
       "    .dataframe tbody tr th {\n",
       "        vertical-align: top;\n",
       "    }\n",
       "\n",
       "    .dataframe thead th {\n",
       "        text-align: right;\n",
       "    }\n",
       "</style>\n",
       "<table border=\"1\" class=\"dataframe\">\n",
       "  <thead>\n",
       "    <tr style=\"text-align: right;\">\n",
       "      <th></th>\n",
       "      <th>tweet_id</th>\n",
       "      <th>in_reply_to_status_id</th>\n",
       "      <th>in_reply_to_user_id</th>\n",
       "      <th>retweeted_status_id</th>\n",
       "      <th>retweeted_status_user_id</th>\n",
       "      <th>rating_numerator</th>\n",
       "      <th>rating_denominator</th>\n",
       "    </tr>\n",
       "  </thead>\n",
       "  <tbody>\n",
       "    <tr>\n",
       "      <th>count</th>\n",
       "      <td>2.356000e+03</td>\n",
       "      <td>7.800000e+01</td>\n",
       "      <td>7.800000e+01</td>\n",
       "      <td>1.810000e+02</td>\n",
       "      <td>1.810000e+02</td>\n",
       "      <td>2356.000000</td>\n",
       "      <td>2356.000000</td>\n",
       "    </tr>\n",
       "    <tr>\n",
       "      <th>mean</th>\n",
       "      <td>7.427716e+17</td>\n",
       "      <td>7.455079e+17</td>\n",
       "      <td>2.014171e+16</td>\n",
       "      <td>7.720400e+17</td>\n",
       "      <td>1.241698e+16</td>\n",
       "      <td>13.126486</td>\n",
       "      <td>10.455433</td>\n",
       "    </tr>\n",
       "    <tr>\n",
       "      <th>std</th>\n",
       "      <td>6.856705e+16</td>\n",
       "      <td>7.582492e+16</td>\n",
       "      <td>1.252797e+17</td>\n",
       "      <td>6.236928e+16</td>\n",
       "      <td>9.599254e+16</td>\n",
       "      <td>45.876648</td>\n",
       "      <td>6.745237</td>\n",
       "    </tr>\n",
       "    <tr>\n",
       "      <th>min</th>\n",
       "      <td>6.660209e+17</td>\n",
       "      <td>6.658147e+17</td>\n",
       "      <td>1.185634e+07</td>\n",
       "      <td>6.661041e+17</td>\n",
       "      <td>7.832140e+05</td>\n",
       "      <td>0.000000</td>\n",
       "      <td>0.000000</td>\n",
       "    </tr>\n",
       "    <tr>\n",
       "      <th>25%</th>\n",
       "      <td>6.783989e+17</td>\n",
       "      <td>6.757419e+17</td>\n",
       "      <td>3.086374e+08</td>\n",
       "      <td>7.186315e+17</td>\n",
       "      <td>4.196984e+09</td>\n",
       "      <td>10.000000</td>\n",
       "      <td>10.000000</td>\n",
       "    </tr>\n",
       "    <tr>\n",
       "      <th>50%</th>\n",
       "      <td>7.196279e+17</td>\n",
       "      <td>7.038708e+17</td>\n",
       "      <td>4.196984e+09</td>\n",
       "      <td>7.804657e+17</td>\n",
       "      <td>4.196984e+09</td>\n",
       "      <td>11.000000</td>\n",
       "      <td>10.000000</td>\n",
       "    </tr>\n",
       "    <tr>\n",
       "      <th>75%</th>\n",
       "      <td>7.993373e+17</td>\n",
       "      <td>8.257804e+17</td>\n",
       "      <td>4.196984e+09</td>\n",
       "      <td>8.203146e+17</td>\n",
       "      <td>4.196984e+09</td>\n",
       "      <td>12.000000</td>\n",
       "      <td>10.000000</td>\n",
       "    </tr>\n",
       "    <tr>\n",
       "      <th>max</th>\n",
       "      <td>8.924206e+17</td>\n",
       "      <td>8.862664e+17</td>\n",
       "      <td>8.405479e+17</td>\n",
       "      <td>8.874740e+17</td>\n",
       "      <td>7.874618e+17</td>\n",
       "      <td>1776.000000</td>\n",
       "      <td>170.000000</td>\n",
       "    </tr>\n",
       "  </tbody>\n",
       "</table>\n",
       "</div>"
      ],
      "text/plain": [
       "           tweet_id  in_reply_to_status_id  in_reply_to_user_id  \\\n",
       "count  2.356000e+03           7.800000e+01         7.800000e+01   \n",
       "mean   7.427716e+17           7.455079e+17         2.014171e+16   \n",
       "std    6.856705e+16           7.582492e+16         1.252797e+17   \n",
       "min    6.660209e+17           6.658147e+17         1.185634e+07   \n",
       "25%    6.783989e+17           6.757419e+17         3.086374e+08   \n",
       "50%    7.196279e+17           7.038708e+17         4.196984e+09   \n",
       "75%    7.993373e+17           8.257804e+17         4.196984e+09   \n",
       "max    8.924206e+17           8.862664e+17         8.405479e+17   \n",
       "\n",
       "       retweeted_status_id  retweeted_status_user_id  rating_numerator  \\\n",
       "count         1.810000e+02              1.810000e+02       2356.000000   \n",
       "mean          7.720400e+17              1.241698e+16         13.126486   \n",
       "std           6.236928e+16              9.599254e+16         45.876648   \n",
       "min           6.661041e+17              7.832140e+05          0.000000   \n",
       "25%           7.186315e+17              4.196984e+09         10.000000   \n",
       "50%           7.804657e+17              4.196984e+09         11.000000   \n",
       "75%           8.203146e+17              4.196984e+09         12.000000   \n",
       "max           8.874740e+17              7.874618e+17       1776.000000   \n",
       "\n",
       "       rating_denominator  \n",
       "count         2356.000000  \n",
       "mean            10.455433  \n",
       "std              6.745237  \n",
       "min              0.000000  \n",
       "25%             10.000000  \n",
       "50%             10.000000  \n",
       "75%             10.000000  \n",
       "max            170.000000  "
      ]
     },
     "execution_count": 24,
     "metadata": {},
     "output_type": "execute_result"
    }
   ],
   "source": [
    "# Visual assessment with Summary statistics for the archive dataset\n",
    "df_twitter_archive.describe()"
   ]
  },
  {
   "cell_type": "code",
   "execution_count": 25,
   "metadata": {},
   "outputs": [
    {
     "data": {
      "text/html": [
       "<div>\n",
       "<style scoped>\n",
       "    .dataframe tbody tr th:only-of-type {\n",
       "        vertical-align: middle;\n",
       "    }\n",
       "\n",
       "    .dataframe tbody tr th {\n",
       "        vertical-align: top;\n",
       "    }\n",
       "\n",
       "    .dataframe thead th {\n",
       "        text-align: right;\n",
       "    }\n",
       "</style>\n",
       "<table border=\"1\" class=\"dataframe\">\n",
       "  <thead>\n",
       "    <tr style=\"text-align: right;\">\n",
       "      <th></th>\n",
       "      <th>tweet_id</th>\n",
       "      <th>img_num</th>\n",
       "      <th>p1_conf</th>\n",
       "      <th>p2_conf</th>\n",
       "      <th>p3_conf</th>\n",
       "    </tr>\n",
       "  </thead>\n",
       "  <tbody>\n",
       "    <tr>\n",
       "      <th>count</th>\n",
       "      <td>2.075000e+03</td>\n",
       "      <td>2075.000000</td>\n",
       "      <td>2075.000000</td>\n",
       "      <td>2.075000e+03</td>\n",
       "      <td>2.075000e+03</td>\n",
       "    </tr>\n",
       "    <tr>\n",
       "      <th>mean</th>\n",
       "      <td>7.384514e+17</td>\n",
       "      <td>1.203855</td>\n",
       "      <td>0.594548</td>\n",
       "      <td>1.345886e-01</td>\n",
       "      <td>6.032417e-02</td>\n",
       "    </tr>\n",
       "    <tr>\n",
       "      <th>std</th>\n",
       "      <td>6.785203e+16</td>\n",
       "      <td>0.561875</td>\n",
       "      <td>0.271174</td>\n",
       "      <td>1.006657e-01</td>\n",
       "      <td>5.090593e-02</td>\n",
       "    </tr>\n",
       "    <tr>\n",
       "      <th>min</th>\n",
       "      <td>6.660209e+17</td>\n",
       "      <td>1.000000</td>\n",
       "      <td>0.044333</td>\n",
       "      <td>1.011300e-08</td>\n",
       "      <td>1.740170e-10</td>\n",
       "    </tr>\n",
       "    <tr>\n",
       "      <th>25%</th>\n",
       "      <td>6.764835e+17</td>\n",
       "      <td>1.000000</td>\n",
       "      <td>0.364412</td>\n",
       "      <td>5.388625e-02</td>\n",
       "      <td>1.622240e-02</td>\n",
       "    </tr>\n",
       "    <tr>\n",
       "      <th>50%</th>\n",
       "      <td>7.119988e+17</td>\n",
       "      <td>1.000000</td>\n",
       "      <td>0.588230</td>\n",
       "      <td>1.181810e-01</td>\n",
       "      <td>4.944380e-02</td>\n",
       "    </tr>\n",
       "    <tr>\n",
       "      <th>75%</th>\n",
       "      <td>7.932034e+17</td>\n",
       "      <td>1.000000</td>\n",
       "      <td>0.843855</td>\n",
       "      <td>1.955655e-01</td>\n",
       "      <td>9.180755e-02</td>\n",
       "    </tr>\n",
       "    <tr>\n",
       "      <th>max</th>\n",
       "      <td>8.924206e+17</td>\n",
       "      <td>4.000000</td>\n",
       "      <td>1.000000</td>\n",
       "      <td>4.880140e-01</td>\n",
       "      <td>2.734190e-01</td>\n",
       "    </tr>\n",
       "  </tbody>\n",
       "</table>\n",
       "</div>"
      ],
      "text/plain": [
       "           tweet_id      img_num      p1_conf       p2_conf       p3_conf\n",
       "count  2.075000e+03  2075.000000  2075.000000  2.075000e+03  2.075000e+03\n",
       "mean   7.384514e+17     1.203855     0.594548  1.345886e-01  6.032417e-02\n",
       "std    6.785203e+16     0.561875     0.271174  1.006657e-01  5.090593e-02\n",
       "min    6.660209e+17     1.000000     0.044333  1.011300e-08  1.740170e-10\n",
       "25%    6.764835e+17     1.000000     0.364412  5.388625e-02  1.622240e-02\n",
       "50%    7.119988e+17     1.000000     0.588230  1.181810e-01  4.944380e-02\n",
       "75%    7.932034e+17     1.000000     0.843855  1.955655e-01  9.180755e-02\n",
       "max    8.924206e+17     4.000000     1.000000  4.880140e-01  2.734190e-01"
      ]
     },
     "execution_count": 25,
     "metadata": {},
     "output_type": "execute_result"
    }
   ],
   "source": [
    "# Visual assessment with Summary statistics for the image prediction dataset\n",
    "df_image_predictions.describe() "
   ]
  },
  {
   "cell_type": "code",
   "execution_count": 26,
   "metadata": {},
   "outputs": [
    {
     "data": {
      "text/html": [
       "<div>\n",
       "<style scoped>\n",
       "    .dataframe tbody tr th:only-of-type {\n",
       "        vertical-align: middle;\n",
       "    }\n",
       "\n",
       "    .dataframe tbody tr th {\n",
       "        vertical-align: top;\n",
       "    }\n",
       "\n",
       "    .dataframe thead th {\n",
       "        text-align: right;\n",
       "    }\n",
       "</style>\n",
       "<table border=\"1\" class=\"dataframe\">\n",
       "  <thead>\n",
       "    <tr style=\"text-align: right;\">\n",
       "      <th></th>\n",
       "      <th>tweet_id</th>\n",
       "      <th>favorites</th>\n",
       "      <th>retweets</th>\n",
       "      <th>user_followers</th>\n",
       "      <th>user_favourites</th>\n",
       "    </tr>\n",
       "  </thead>\n",
       "  <tbody>\n",
       "    <tr>\n",
       "      <th>count</th>\n",
       "      <td>2.327000e+03</td>\n",
       "      <td>2327.000000</td>\n",
       "      <td>2327.000000</td>\n",
       "      <td>2.327000e+03</td>\n",
       "      <td>2327.000000</td>\n",
       "    </tr>\n",
       "    <tr>\n",
       "      <th>mean</th>\n",
       "      <td>7.417930e+17</td>\n",
       "      <td>7076.501074</td>\n",
       "      <td>2485.325312</td>\n",
       "      <td>9.243732e+06</td>\n",
       "      <td>147113.037387</td>\n",
       "    </tr>\n",
       "    <tr>\n",
       "      <th>std</th>\n",
       "      <td>6.820795e+16</td>\n",
       "      <td>10996.930486</td>\n",
       "      <td>4208.960495</td>\n",
       "      <td>6.446233e+01</td>\n",
       "      <td>0.429835</td>\n",
       "    </tr>\n",
       "    <tr>\n",
       "      <th>min</th>\n",
       "      <td>6.660209e+17</td>\n",
       "      <td>0.000000</td>\n",
       "      <td>1.000000</td>\n",
       "      <td>9.243705e+06</td>\n",
       "      <td>147112.000000</td>\n",
       "    </tr>\n",
       "    <tr>\n",
       "      <th>25%</th>\n",
       "      <td>6.781394e+17</td>\n",
       "      <td>1227.500000</td>\n",
       "      <td>498.500000</td>\n",
       "      <td>9.243708e+06</td>\n",
       "      <td>147113.000000</td>\n",
       "    </tr>\n",
       "    <tr>\n",
       "      <th>50%</th>\n",
       "      <td>7.178418e+17</td>\n",
       "      <td>3055.000000</td>\n",
       "      <td>1155.000000</td>\n",
       "      <td>9.243727e+06</td>\n",
       "      <td>147113.000000</td>\n",
       "    </tr>\n",
       "    <tr>\n",
       "      <th>75%</th>\n",
       "      <td>7.986547e+17</td>\n",
       "      <td>8632.000000</td>\n",
       "      <td>2877.500000</td>\n",
       "      <td>9.243738e+06</td>\n",
       "      <td>147113.000000</td>\n",
       "    </tr>\n",
       "    <tr>\n",
       "      <th>max</th>\n",
       "      <td>8.924206e+17</td>\n",
       "      <td>145364.000000</td>\n",
       "      <td>71143.000000</td>\n",
       "      <td>9.244196e+06</td>\n",
       "      <td>147117.000000</td>\n",
       "    </tr>\n",
       "  </tbody>\n",
       "</table>\n",
       "</div>"
      ],
      "text/plain": [
       "           tweet_id      favorites      retweets  user_followers  \\\n",
       "count  2.327000e+03    2327.000000   2327.000000    2.327000e+03   \n",
       "mean   7.417930e+17    7076.501074   2485.325312    9.243732e+06   \n",
       "std    6.820795e+16   10996.930486   4208.960495    6.446233e+01   \n",
       "min    6.660209e+17       0.000000      1.000000    9.243705e+06   \n",
       "25%    6.781394e+17    1227.500000    498.500000    9.243708e+06   \n",
       "50%    7.178418e+17    3055.000000   1155.000000    9.243727e+06   \n",
       "75%    7.986547e+17    8632.000000   2877.500000    9.243738e+06   \n",
       "max    8.924206e+17  145364.000000  71143.000000    9.244196e+06   \n",
       "\n",
       "       user_favourites  \n",
       "count      2327.000000  \n",
       "mean     147113.037387  \n",
       "std           0.429835  \n",
       "min      147112.000000  \n",
       "25%      147113.000000  \n",
       "50%      147113.000000  \n",
       "75%      147113.000000  \n",
       "max      147117.000000  "
      ]
     },
     "execution_count": 26,
     "metadata": {},
     "output_type": "execute_result"
    }
   ],
   "source": [
    "# Visual assessment with Summary statistics for the api dataset\n",
    "df_api.describe()"
   ]
  },
  {
   "cell_type": "code",
   "execution_count": 27,
   "metadata": {},
   "outputs": [
    {
     "name": "stdout",
     "output_type": "stream",
     "text": [
      "<class 'pandas.core.frame.DataFrame'>\n",
      "RangeIndex: 2075 entries, 0 to 2074\n",
      "Data columns (total 12 columns):\n",
      "tweet_id    2075 non-null int64\n",
      "jpg_url     2075 non-null object\n",
      "img_num     2075 non-null int64\n",
      "p1          2075 non-null object\n",
      "p1_conf     2075 non-null float64\n",
      "p1_dog      2075 non-null bool\n",
      "p2          2075 non-null object\n",
      "p2_conf     2075 non-null float64\n",
      "p2_dog      2075 non-null bool\n",
      "p3          2075 non-null object\n",
      "p3_conf     2075 non-null float64\n",
      "p3_dog      2075 non-null bool\n",
      "dtypes: bool(3), float64(3), int64(2), object(4)\n",
      "memory usage: 152.1+ KB\n"
     ]
    }
   ],
   "source": [
    "# visually Understanding the predictiction dataset better\n",
    "df_image_predictions.info()"
   ]
  },
  {
   "cell_type": "code",
   "execution_count": 28,
   "metadata": {},
   "outputs": [
    {
     "name": "stdout",
     "output_type": "stream",
     "text": [
      "<class 'pandas.core.frame.DataFrame'>\n",
      "RangeIndex: 2356 entries, 0 to 2355\n",
      "Data columns (total 17 columns):\n",
      "tweet_id                      2356 non-null int64\n",
      "in_reply_to_status_id         78 non-null float64\n",
      "in_reply_to_user_id           78 non-null float64\n",
      "timestamp                     2356 non-null object\n",
      "source                        2356 non-null object\n",
      "text                          2356 non-null object\n",
      "retweeted_status_id           181 non-null float64\n",
      "retweeted_status_user_id      181 non-null float64\n",
      "retweeted_status_timestamp    181 non-null object\n",
      "expanded_urls                 2297 non-null object\n",
      "rating_numerator              2356 non-null int64\n",
      "rating_denominator            2356 non-null int64\n",
      "name                          2356 non-null object\n",
      "doggo                         2356 non-null object\n",
      "floofer                       2356 non-null object\n",
      "pupper                        2356 non-null object\n",
      "puppo                         2356 non-null object\n",
      "dtypes: float64(4), int64(3), object(10)\n",
      "memory usage: 313.0+ KB\n"
     ]
    }
   ],
   "source": [
    "# Understanding the twitter archive dataset better\n",
    "df_twitter_archive.info()"
   ]
  },
  {
   "cell_type": "code",
   "execution_count": 29,
   "metadata": {},
   "outputs": [
    {
     "name": "stdout",
     "output_type": "stream",
     "text": [
      "<class 'pandas.core.frame.DataFrame'>\n",
      "RangeIndex: 2327 entries, 0 to 2326\n",
      "Data columns (total 6 columns):\n",
      "tweet_id           2327 non-null int64\n",
      "favorites          2327 non-null int64\n",
      "retweets           2327 non-null int64\n",
      "user_followers     2327 non-null int64\n",
      "user_favourites    2327 non-null int64\n",
      "date_time          2327 non-null object\n",
      "dtypes: int64(5), object(1)\n",
      "memory usage: 109.2+ KB\n"
     ]
    }
   ],
   "source": [
    "# Understanding the api dataset better\n",
    "df_api.info()"
   ]
  },
  {
   "cell_type": "markdown",
   "metadata": {
    "extensions": {
     "jupyter_dashboards": {
      "version": 1,
      "views": {
       "grid_default": {
        "col": 0,
        "height": 7,
        "hidden": false,
        "row": 40,
        "width": 12
       },
       "report_default": {
        "hidden": false
       }
      }
     }
    }
   },
   "source": [
    "### 3.1  Tidiness issues\n",
    "\n",
    "#### df_twitter_archive\n",
    "1. The three datasets need to be merged\n",
    "\n",
    "2. The dog breed should be compressed to just one column insteat of three columns."
   ]
  },
  {
   "cell_type": "markdown",
   "metadata": {},
   "source": [
    "### 3.2  Quality issues\n",
    "\n",
    "#### df_twitter_archive\n",
    "\n",
    "1. Only original tweets are needed, not including the retweets and replies.\n",
    "\n",
    "2. There are columns with values not needed for analysis\n",
    "\n",
    "3. Rating_numerator and rating_denominator columns have wrong denominator values like 20  and 50 in at index 1165 and 1202 respectively for the denominator and 182 at the index of 290 for the numerator.\n",
    "\n",
    "4. Life_stage of dogs have names joined together so needs spacing.\n",
    "\n",
    "5. Incorrect names of dogs spelt starting with small letters such as 'a', 'the' and so on and some missing names replaced with 'None'.\n",
    "\n",
    "6. The tweet_id column should be of  object(string) since it is not needed for numerical analysis.\n",
    "\n",
    "7. Null values represented as None in the life stages of dogs.\n",
    "\n",
    "8. Merged dataset the life_stage column has names of life stage spelling to be corrected."
   ]
  },
  {
   "cell_type": "markdown",
   "metadata": {
    "extensions": {
     "jupyter_dashboards": {
      "version": 1,
      "views": {
       "grid_default": {
        "col": 4,
        "height": 4,
        "hidden": false,
        "row": 32,
        "width": 4
       },
       "report_default": {
        "hidden": false
       }
      }
     }
    }
   },
   "source": [
    "## 4.  Cleaning Data\n",
    "In this section, clean **all** of the issues you documented while assessing. \n",
    "\n",
    "**Note:** Make a copy of the original data before cleaning. Cleaning includes merging individual pieces of data according to the rules of [tidy data](https://cran.r-project.org/web/packages/tidyr/vignettes/tidy-data.html). The result should be a high-quality and tidy master pandas DataFrame (or DataFrames, if appropriate)."
   ]
  },
  {
   "cell_type": "code",
   "execution_count": 196,
   "metadata": {},
   "outputs": [],
   "source": [
    "# Make copies of original pieces of data\n",
    "df_twitter_archive_clean = df_twitter_archive.copy()\n",
    "df_image_predictions_clean = df_image_predictions.copy()\n",
    "df_api_clean = df_api.copy()"
   ]
  },
  {
   "cell_type": "markdown",
   "metadata": {},
   "source": [
    "### 4.1  Starting with issues with Tidyness"
   ]
  },
  {
   "cell_type": "markdown",
   "metadata": {},
   "source": [
    "#### Issue #1: The three datasets need to be merged"
   ]
  },
  {
   "cell_type": "markdown",
   "metadata": {},
   "source": [
    "#### Define"
   ]
  },
  {
   "cell_type": "markdown",
   "metadata": {},
   "source": [
    "- Merge the three datasets"
   ]
  },
  {
   "cell_type": "markdown",
   "metadata": {},
   "source": [
    "#### Code"
   ]
  },
  {
   "cell_type": "code",
   "execution_count": 197,
   "metadata": {},
   "outputs": [],
   "source": [
    "df_twitter = pd.merge(df_twitter_archive_clean, df_image_predictions_clean,\n",
    "                                   how = 'inner', on = 'tweet_id')\n",
    "# merge 'master_df_clean' and 'tweets_df_clean'\n",
    "df_twitter = pd.merge(df_twitter, df_api_clean,\n",
    "                                   how = 'inner', on = 'tweet_id')"
   ]
  },
  {
   "cell_type": "markdown",
   "metadata": {},
   "source": [
    "#### Test"
   ]
  },
  {
   "cell_type": "code",
   "execution_count": 198,
   "metadata": {},
   "outputs": [
    {
     "name": "stdout",
     "output_type": "stream",
     "text": [
      "<class 'pandas.core.frame.DataFrame'>\n",
      "Int64Index: 2057 entries, 0 to 2056\n",
      "Data columns (total 33 columns):\n",
      "tweet_id                      2057 non-null int64\n",
      "in_reply_to_status_id         23 non-null float64\n",
      "in_reply_to_user_id           23 non-null float64\n",
      "timestamp                     2057 non-null object\n",
      "source                        2057 non-null object\n",
      "text                          2057 non-null object\n",
      "retweeted_status_id           71 non-null float64\n",
      "retweeted_status_user_id      71 non-null float64\n",
      "retweeted_status_timestamp    71 non-null object\n",
      "expanded_urls                 2057 non-null object\n",
      "rating_numerator              2057 non-null int64\n",
      "rating_denominator            2057 non-null int64\n",
      "name                          2057 non-null object\n",
      "doggo                         2057 non-null object\n",
      "floofer                       2057 non-null object\n",
      "pupper                        2057 non-null object\n",
      "puppo                         2057 non-null object\n",
      "jpg_url                       2057 non-null object\n",
      "img_num                       2057 non-null int64\n",
      "p1                            2057 non-null object\n",
      "p1_conf                       2057 non-null float64\n",
      "p1_dog                        2057 non-null bool\n",
      "p2                            2057 non-null object\n",
      "p2_conf                       2057 non-null float64\n",
      "p2_dog                        2057 non-null bool\n",
      "p3                            2057 non-null object\n",
      "p3_conf                       2057 non-null float64\n",
      "p3_dog                        2057 non-null bool\n",
      "favorites                     2057 non-null int64\n",
      "retweets                      2057 non-null int64\n",
      "user_followers                2057 non-null int64\n",
      "user_favourites               2057 non-null int64\n",
      "date_time                     2057 non-null object\n",
      "dtypes: bool(3), float64(7), int64(8), object(15)\n",
      "memory usage: 504.2+ KB\n"
     ]
    }
   ],
   "source": [
    "df_twitter.info()"
   ]
  },
  {
   "cell_type": "code",
   "execution_count": 199,
   "metadata": {},
   "outputs": [
    {
     "data": {
      "text/plain": [
       "0"
      ]
     },
     "execution_count": 199,
     "metadata": {},
     "output_type": "execute_result"
    }
   ],
   "source": [
    "df_twitter.duplicated().sum()"
   ]
  },
  {
   "cell_type": "markdown",
   "metadata": {},
   "source": [
    "#### Issue #2: The dog breed should be compressed to just one column insteat of three columns."
   ]
  },
  {
   "cell_type": "markdown",
   "metadata": {},
   "source": [
    "#### Define"
   ]
  },
  {
   "cell_type": "markdown",
   "metadata": {},
   "source": [
    "- Melt 'doggo', 'floofer', 'pupper', and 'puppo' columns to one column new column called 'life_stage'"
   ]
  },
  {
   "cell_type": "markdown",
   "metadata": {},
   "source": [
    "#### Code"
   ]
  },
  {
   "cell_type": "code",
   "execution_count": 200,
   "metadata": {},
   "outputs": [],
   "source": [
    "# Extract the dog stage names from the the 4 individual columns and combine into one 'life_stage' column\n",
    "# https://stackoverflow.com/questions/44061607/pandas-lambda-function-with-nan-support\n",
    "\n",
    "stages = ['doggo', 'floofer', 'pupper', 'puppo']\n",
    "for stage in stages:\n",
    "#     Treat values inputed as 'None' as NaN. This issue is noted in the quality issues to adress\n",
    "    df_twitter[stage] = df_twitter[stage].apply(lambda x: np.nan if x == 'None' else x)\n",
    "    \n",
    "df_twitter['life_stage'] = df_twitter[['doggo', 'floofer', 'pupper', 'puppo']].astype(str).sum(1)\n",
    "df_twitter['life_stage'] = df_twitter['life_stage'].apply(lambda x: x.replace('nan', ''))\n",
    "df_twitter['life_stage'] = df_twitter['life_stage'].apply(lambda x: np.NaN if x == '' else x)\n"
   ]
  },
  {
   "cell_type": "code",
   "execution_count": 201,
   "metadata": {},
   "outputs": [],
   "source": [
    "# Drop individual dog stage columns\n",
    "cols_to_drop = ['doggo', 'floofer', 'pupper', 'puppo']\n",
    "df_twitter.drop(cols_to_drop, axis=1, inplace=True)"
   ]
  },
  {
   "cell_type": "code",
   "execution_count": 202,
   "metadata": {},
   "outputs": [
    {
     "data": {
      "text/plain": [
       "pupper          210\n",
       "doggo            65\n",
       "puppo            23\n",
       "doggopupper      11\n",
       "floofer           7\n",
       "doggofloofer      1\n",
       "doggopuppo        1\n",
       "Name: life_stage, dtype: int64"
      ]
     },
     "execution_count": 202,
     "metadata": {},
     "output_type": "execute_result"
    }
   ],
   "source": [
    "df_twitter.life_stage.value_counts()"
   ]
  },
  {
   "cell_type": "code",
   "execution_count": 203,
   "metadata": {},
   "outputs": [],
   "source": [
    "# Correcting the spelling of 'doggopupper', 'doggofloofer' and 'doggopuppo' though under quality assessment\n",
    "df_twitter['life_stage'].replace({'doggopupper':'doggo pupper', \n",
    "                                'doggofloofer':'doggo floofer',\n",
    "                                'doggopuppo':'doggo puppo',\n",
    "                                '':None}, inplace=True)"
   ]
  },
  {
   "cell_type": "code",
   "execution_count": 204,
   "metadata": {},
   "outputs": [
    {
     "name": "stdout",
     "output_type": "stream",
     "text": [
      "<class 'pandas.core.frame.DataFrame'>\n",
      "Int64Index: 2057 entries, 0 to 2056\n",
      "Data columns (total 30 columns):\n",
      "tweet_id                      2057 non-null int64\n",
      "in_reply_to_status_id         23 non-null float64\n",
      "in_reply_to_user_id           23 non-null float64\n",
      "timestamp                     2057 non-null object\n",
      "source                        2057 non-null object\n",
      "text                          2057 non-null object\n",
      "retweeted_status_id           71 non-null float64\n",
      "retweeted_status_user_id      71 non-null float64\n",
      "retweeted_status_timestamp    71 non-null object\n",
      "expanded_urls                 2057 non-null object\n",
      "rating_numerator              2057 non-null int64\n",
      "rating_denominator            2057 non-null int64\n",
      "name                          2057 non-null object\n",
      "jpg_url                       2057 non-null object\n",
      "img_num                       2057 non-null int64\n",
      "p1                            2057 non-null object\n",
      "p1_conf                       2057 non-null float64\n",
      "p1_dog                        2057 non-null bool\n",
      "p2                            2057 non-null object\n",
      "p2_conf                       2057 non-null float64\n",
      "p2_dog                        2057 non-null bool\n",
      "p3                            2057 non-null object\n",
      "p3_conf                       2057 non-null float64\n",
      "p3_dog                        2057 non-null bool\n",
      "favorites                     2057 non-null int64\n",
      "retweets                      2057 non-null int64\n",
      "user_followers                2057 non-null int64\n",
      "user_favourites               2057 non-null int64\n",
      "date_time                     2057 non-null object\n",
      "life_stage                    318 non-null object\n",
      "dtypes: bool(3), float64(7), int64(8), object(12)\n",
      "memory usage: 456.0+ KB\n"
     ]
    }
   ],
   "source": [
    "df_twitter.info()"
   ]
  },
  {
   "cell_type": "markdown",
   "metadata": {},
   "source": [
    "#### Test"
   ]
  },
  {
   "cell_type": "code",
   "execution_count": 205,
   "metadata": {},
   "outputs": [
    {
     "data": {
      "text/plain": [
       "pupper           210\n",
       "doggo             65\n",
       "puppo             23\n",
       "doggo pupper      11\n",
       "floofer            7\n",
       "doggo puppo        1\n",
       "doggo floofer      1\n",
       "Name: life_stage, dtype: int64"
      ]
     },
     "execution_count": 205,
     "metadata": {},
     "output_type": "execute_result"
    }
   ],
   "source": [
    "# Checking to see the melt worked\n",
    "df_twitter.life_stage.value_counts()"
   ]
  },
  {
   "cell_type": "code",
   "execution_count": 206,
   "metadata": {},
   "outputs": [
    {
     "data": {
      "text/plain": [
       "array([nan, 'doggo', 'puppo', 'pupper', 'floofer', 'doggo puppo',\n",
       "       'doggo floofer', 'doggo pupper'], dtype=object)"
      ]
     },
     "execution_count": 206,
     "metadata": {},
     "output_type": "execute_result"
    }
   ],
   "source": [
    "df_twitter.life_stage.unique()"
   ]
  },
  {
   "cell_type": "code",
   "execution_count": 207,
   "metadata": {},
   "outputs": [
    {
     "data": {
      "text/plain": [
       "1739"
      ]
     },
     "execution_count": 207,
     "metadata": {},
     "output_type": "execute_result"
    }
   ],
   "source": [
    "# Number of posts nut containing the life stage of the dog i.e NaN\n",
    "df_twitter.life_stage.isnull().sum()"
   ]
  },
  {
   "cell_type": "markdown",
   "metadata": {},
   "source": [
    "### 4.2  Quality Issues"
   ]
  },
  {
   "cell_type": "markdown",
   "metadata": {},
   "source": [
    "#### Issue#1: Only original tweets are needed, not including the retweets and replies."
   ]
  },
  {
   "cell_type": "markdown",
   "metadata": {},
   "source": [
    "#### Define"
   ]
  },
  {
   "cell_type": "markdown",
   "metadata": {},
   "source": [
    "- Create a dataframe that contains no records for 'retweeted_status_id' and 'in_reply_to_user_id'"
   ]
  },
  {
   "cell_type": "markdown",
   "metadata": {},
   "source": [
    "#### Code"
   ]
  },
  {
   "cell_type": "code",
   "execution_count": 208,
   "metadata": {},
   "outputs": [],
   "source": [
    "df_twitter = df_twitter[df_twitter.retweeted_status_id.isnull()]\n",
    "df_twitter = df_twitter[df_twitter.in_reply_to_status_id.isnull()]"
   ]
  },
  {
   "cell_type": "markdown",
   "metadata": {},
   "source": [
    "#### Test"
   ]
  },
  {
   "cell_type": "code",
   "execution_count": 209,
   "metadata": {},
   "outputs": [
    {
     "name": "stdout",
     "output_type": "stream",
     "text": [
      "<class 'pandas.core.frame.DataFrame'>\n",
      "Int64Index: 1963 entries, 0 to 2056\n",
      "Data columns (total 30 columns):\n",
      "tweet_id                      1963 non-null int64\n",
      "in_reply_to_status_id         0 non-null float64\n",
      "in_reply_to_user_id           0 non-null float64\n",
      "timestamp                     1963 non-null object\n",
      "source                        1963 non-null object\n",
      "text                          1963 non-null object\n",
      "retweeted_status_id           0 non-null float64\n",
      "retweeted_status_user_id      0 non-null float64\n",
      "retweeted_status_timestamp    0 non-null object\n",
      "expanded_urls                 1963 non-null object\n",
      "rating_numerator              1963 non-null int64\n",
      "rating_denominator            1963 non-null int64\n",
      "name                          1963 non-null object\n",
      "jpg_url                       1963 non-null object\n",
      "img_num                       1963 non-null int64\n",
      "p1                            1963 non-null object\n",
      "p1_conf                       1963 non-null float64\n",
      "p1_dog                        1963 non-null bool\n",
      "p2                            1963 non-null object\n",
      "p2_conf                       1963 non-null float64\n",
      "p2_dog                        1963 non-null bool\n",
      "p3                            1963 non-null object\n",
      "p3_conf                       1963 non-null float64\n",
      "p3_dog                        1963 non-null bool\n",
      "favorites                     1963 non-null int64\n",
      "retweets                      1963 non-null int64\n",
      "user_followers                1963 non-null int64\n",
      "user_favourites               1963 non-null int64\n",
      "date_time                     1963 non-null object\n",
      "life_stage                    302 non-null object\n",
      "dtypes: bool(3), float64(7), int64(8), object(12)\n",
      "memory usage: 435.2+ KB\n"
     ]
    }
   ],
   "source": [
    "df_twitter.info()"
   ]
  },
  {
   "cell_type": "markdown",
   "metadata": {},
   "source": [
    "#### Issue#2: There are columns with values not needed for analysis"
   ]
  },
  {
   "cell_type": "markdown",
   "metadata": {},
   "source": [
    "#### Define"
   ]
  },
  {
   "cell_type": "markdown",
   "metadata": {},
   "source": [
    "- #### Delete 'in_reply_to_status_id', 'in_reply_to_user_id', 'timestamp', 'retweeted_status_id', 'retweeted_status_user_id', 'retweeted_status_timestamp' and 'expanded_urls"
   ]
  },
  {
   "cell_type": "markdown",
   "metadata": {},
   "source": [
    "#### Code"
   ]
  },
  {
   "cell_type": "code",
   "execution_count": 210,
   "metadata": {},
   "outputs": [],
   "source": [
    "# Drop in_reply_to_status_id, in_reply_to_user_id, timestamp, retweeted_status_id, retweeted_status_user_id, retweeted_status_timestamp and expanded_urls\n",
    "df_twitter.drop(['in_reply_to_status_id', \n",
    "                              'in_reply_to_user_id', \n",
    "                              'timestamp', 'retweeted_status_id', \n",
    "                              'retweeted_status_user_id', \n",
    "                              'retweeted_status_timestamp', \n",
    "                              'expanded_urls'], axis=1, inplace=True)"
   ]
  },
  {
   "cell_type": "markdown",
   "metadata": {},
   "source": [
    "#### Test"
   ]
  },
  {
   "cell_type": "code",
   "execution_count": 211,
   "metadata": {},
   "outputs": [
    {
     "name": "stdout",
     "output_type": "stream",
     "text": [
      "<class 'pandas.core.frame.DataFrame'>\n",
      "Int64Index: 1963 entries, 0 to 2056\n",
      "Data columns (total 23 columns):\n",
      "tweet_id              1963 non-null int64\n",
      "source                1963 non-null object\n",
      "text                  1963 non-null object\n",
      "rating_numerator      1963 non-null int64\n",
      "rating_denominator    1963 non-null int64\n",
      "name                  1963 non-null object\n",
      "jpg_url               1963 non-null object\n",
      "img_num               1963 non-null int64\n",
      "p1                    1963 non-null object\n",
      "p1_conf               1963 non-null float64\n",
      "p1_dog                1963 non-null bool\n",
      "p2                    1963 non-null object\n",
      "p2_conf               1963 non-null float64\n",
      "p2_dog                1963 non-null bool\n",
      "p3                    1963 non-null object\n",
      "p3_conf               1963 non-null float64\n",
      "p3_dog                1963 non-null bool\n",
      "favorites             1963 non-null int64\n",
      "retweets              1963 non-null int64\n",
      "user_followers        1963 non-null int64\n",
      "user_favourites       1963 non-null int64\n",
      "date_time             1963 non-null object\n",
      "life_stage            302 non-null object\n",
      "dtypes: bool(3), float64(3), int64(8), object(9)\n",
      "memory usage: 327.8+ KB\n"
     ]
    }
   ],
   "source": [
    "df_twitter.info()"
   ]
  },
  {
   "cell_type": "markdown",
   "metadata": {},
   "source": [
    "#### Issue#3: Rating_numerator and rating_denominator columns have wrong denominator values like 20  and 50 in at index 1165 and 1202 respectively for the denominator and 182 at the index of 290 for the numerator."
   ]
  },
  {
   "cell_type": "markdown",
   "metadata": {},
   "source": [
    "#### Define"
   ]
  },
  {
   "cell_type": "markdown",
   "metadata": {},
   "source": [
    "- Remove rows with wrong denominators\n",
    "- Remove rows with numerators greater than 15"
   ]
  },
  {
   "cell_type": "markdown",
   "metadata": {},
   "source": [
    "#### Code"
   ]
  },
  {
   "cell_type": "code",
   "execution_count": 212,
   "metadata": {},
   "outputs": [],
   "source": [
    "df_twitter = df_twitter.query('rating_denominator == 10')"
   ]
  },
  {
   "cell_type": "code",
   "execution_count": 213,
   "metadata": {},
   "outputs": [],
   "source": [
    "df_twitter = df_twitter.query('rating_numerator <= 15')"
   ]
  },
  {
   "cell_type": "markdown",
   "metadata": {},
   "source": [
    "#### Test"
   ]
  },
  {
   "cell_type": "code",
   "execution_count": 214,
   "metadata": {},
   "outputs": [
    {
     "data": {
      "text/plain": [
       "10    1941\n",
       "Name: rating_denominator, dtype: int64"
      ]
     },
     "execution_count": 214,
     "metadata": {},
     "output_type": "execute_result"
    }
   ],
   "source": [
    "df_twitter.rating_denominator.value_counts()"
   ]
  },
  {
   "cell_type": "code",
   "execution_count": 215,
   "metadata": {},
   "outputs": [
    {
     "data": {
      "text/plain": [
       "12    444\n",
       "10    415\n",
       "11    392\n",
       "13    249\n",
       "9     149\n",
       "8      95\n",
       "7      51\n",
       "14     33\n",
       "5      33\n",
       "6      32\n",
       "3      19\n",
       "4      15\n",
       "2       9\n",
       "1       4\n",
       "0       1\n",
       "Name: rating_numerator, dtype: int64"
      ]
     },
     "execution_count": 215,
     "metadata": {},
     "output_type": "execute_result"
    }
   ],
   "source": [
    "df_twitter.rating_numerator.value_counts()"
   ]
  },
  {
   "cell_type": "markdown",
   "metadata": {},
   "source": [
    "#### Issue#5: Incorrect names of dogs spelt starting with small letters such as 'a', 'the' and so on.\n"
   ]
  },
  {
   "cell_type": "markdown",
   "metadata": {},
   "source": [
    "#### Define"
   ]
  },
  {
   "cell_type": "markdown",
   "metadata": {},
   "source": [
    "- Check for where name is spelt with small letter and replace with np.nan."
   ]
  },
  {
   "cell_type": "markdown",
   "metadata": {},
   "source": [
    "#### Code"
   ]
  },
  {
   "cell_type": "code",
   "execution_count": 216,
   "metadata": {},
   "outputs": [],
   "source": [
    "def name(data): \n",
    "    for name in df_twitter['name']:\n",
    "            if name[0] == name[0].lower() or name == 'None':\n",
    "                df_twitter['name'].replace(name, np.nan, inplace=True)\n",
    "name(df_twitter)"
   ]
  },
  {
   "cell_type": "markdown",
   "metadata": {},
   "source": [
    "#### Test"
   ]
  },
  {
   "cell_type": "code",
   "execution_count": 217,
   "metadata": {},
   "outputs": [
    {
     "data": {
      "text/plain": [
       "0        Phineas\n",
       "1          Tilly\n",
       "2         Archie\n",
       "3          Darla\n",
       "4       Franklin\n",
       "5            NaN\n",
       "6            Jax\n",
       "7            NaN\n",
       "8           Zoey\n",
       "9         Cassie\n",
       "10          Koda\n",
       "11         Bruno\n",
       "12           NaN\n",
       "13           Ted\n",
       "14        Stuart\n",
       "15        Oliver\n",
       "16           Jim\n",
       "17          Zeke\n",
       "18       Ralphus\n",
       "19        Gerald\n",
       "20       Jeffrey\n",
       "21           NaN\n",
       "22        Canela\n",
       "23           NaN\n",
       "24           NaN\n",
       "25          Maya\n",
       "26        Mingus\n",
       "27         Derek\n",
       "28        Roscoe\n",
       "29       Waffles\n",
       "          ...   \n",
       "2026      Walter\n",
       "2027         NaN\n",
       "2028         NaN\n",
       "2029         NaN\n",
       "2030         NaN\n",
       "2031         NaN\n",
       "2032         NaN\n",
       "2033         NaN\n",
       "2034         NaN\n",
       "2035         NaN\n",
       "2037         NaN\n",
       "2038         NaN\n",
       "2039         NaN\n",
       "2040         NaN\n",
       "2041         NaN\n",
       "2042         NaN\n",
       "2043         NaN\n",
       "2044         NaN\n",
       "2045         NaN\n",
       "2046         NaN\n",
       "2047         NaN\n",
       "2048         NaN\n",
       "2049         NaN\n",
       "2050         NaN\n",
       "2051         NaN\n",
       "2052         NaN\n",
       "2053         NaN\n",
       "2054         NaN\n",
       "2055         NaN\n",
       "2056         NaN\n",
       "Name: name, Length: 1941, dtype: object"
      ]
     },
     "execution_count": 217,
     "metadata": {},
     "output_type": "execute_result"
    }
   ],
   "source": [
    "df_twitter['name']"
   ]
  },
  {
   "cell_type": "markdown",
   "metadata": {},
   "source": [
    "#### Issue#6: The tweet_id column should be of  object(string) since it is not needed for numerical analysis."
   ]
  },
  {
   "cell_type": "markdown",
   "metadata": {},
   "source": [
    "#### Define"
   ]
  },
  {
   "cell_type": "markdown",
   "metadata": {},
   "source": [
    "- Change the tweet_id column datatype from int to string"
   ]
  },
  {
   "cell_type": "markdown",
   "metadata": {},
   "source": [
    "#### Code"
   ]
  },
  {
   "cell_type": "code",
   "execution_count": 218,
   "metadata": {},
   "outputs": [],
   "source": [
    "df_twitter['tweet_id'] = df_twitter['tweet_id'].astype(str)"
   ]
  },
  {
   "cell_type": "markdown",
   "metadata": {},
   "source": [
    "#### Test"
   ]
  },
  {
   "cell_type": "code",
   "execution_count": 219,
   "metadata": {},
   "outputs": [
    {
     "name": "stdout",
     "output_type": "stream",
     "text": [
      "<class 'pandas.core.frame.DataFrame'>\n",
      "Int64Index: 1941 entries, 0 to 2056\n",
      "Data columns (total 23 columns):\n",
      "tweet_id              1941 non-null object\n",
      "source                1941 non-null object\n",
      "text                  1941 non-null object\n",
      "rating_numerator      1941 non-null int64\n",
      "rating_denominator    1941 non-null int64\n",
      "name                  1336 non-null object\n",
      "jpg_url               1941 non-null object\n",
      "img_num               1941 non-null int64\n",
      "p1                    1941 non-null object\n",
      "p1_conf               1941 non-null float64\n",
      "p1_dog                1941 non-null bool\n",
      "p2                    1941 non-null object\n",
      "p2_conf               1941 non-null float64\n",
      "p2_dog                1941 non-null bool\n",
      "p3                    1941 non-null object\n",
      "p3_conf               1941 non-null float64\n",
      "p3_dog                1941 non-null bool\n",
      "favorites             1941 non-null int64\n",
      "retweets              1941 non-null int64\n",
      "user_followers        1941 non-null int64\n",
      "user_favourites       1941 non-null int64\n",
      "date_time             1941 non-null object\n",
      "life_stage            301 non-null object\n",
      "dtypes: bool(3), float64(3), int64(7), object(10)\n",
      "memory usage: 324.1+ KB\n"
     ]
    }
   ],
   "source": [
    "df_twitter.info()"
   ]
  },
  {
   "cell_type": "markdown",
   "metadata": {},
   "source": [
    "## 5.  Storing Data\n",
    "Save gathered, assessed, and cleaned master dataset to a CSV file named \"twitter_archive_master.csv\"."
   ]
  },
  {
   "cell_type": "code",
   "execution_count": 220,
   "metadata": {},
   "outputs": [],
   "source": [
    "df_twitter.to_csv('twitter_archive_master.csv', \n",
    "                         index=False, encoding = 'utf-8')"
   ]
  },
  {
   "cell_type": "markdown",
   "metadata": {},
   "source": [
    "## 6.  Analyzing and Visualizing Data\n",
    "In this section, analyze and visualize your wrangled data. You must produce at least **three (3) insights and one (1) visualization.**"
   ]
  },
  {
   "cell_type": "code",
   "execution_count": 221,
   "metadata": {},
   "outputs": [],
   "source": [
    "df = pd.read_csv('twitter_archive_master.csv')"
   ]
  },
  {
   "cell_type": "code",
   "execution_count": 222,
   "metadata": {},
   "outputs": [
    {
     "data": {
      "text/html": [
       "<div>\n",
       "<style scoped>\n",
       "    .dataframe tbody tr th:only-of-type {\n",
       "        vertical-align: middle;\n",
       "    }\n",
       "\n",
       "    .dataframe tbody tr th {\n",
       "        vertical-align: top;\n",
       "    }\n",
       "\n",
       "    .dataframe thead th {\n",
       "        text-align: right;\n",
       "    }\n",
       "</style>\n",
       "<table border=\"1\" class=\"dataframe\">\n",
       "  <thead>\n",
       "    <tr style=\"text-align: right;\">\n",
       "      <th></th>\n",
       "      <th>tweet_id</th>\n",
       "      <th>source</th>\n",
       "      <th>text</th>\n",
       "      <th>rating_numerator</th>\n",
       "      <th>rating_denominator</th>\n",
       "      <th>name</th>\n",
       "      <th>jpg_url</th>\n",
       "      <th>img_num</th>\n",
       "      <th>p1</th>\n",
       "      <th>p1_conf</th>\n",
       "      <th>...</th>\n",
       "      <th>p2_dog</th>\n",
       "      <th>p3</th>\n",
       "      <th>p3_conf</th>\n",
       "      <th>p3_dog</th>\n",
       "      <th>favorites</th>\n",
       "      <th>retweets</th>\n",
       "      <th>user_followers</th>\n",
       "      <th>user_favourites</th>\n",
       "      <th>date_time</th>\n",
       "      <th>life_stage</th>\n",
       "    </tr>\n",
       "  </thead>\n",
       "  <tbody>\n",
       "    <tr>\n",
       "      <th>0</th>\n",
       "      <td>892420643555336193</td>\n",
       "      <td>&lt;a href=\"http://twitter.com/download/iphone\" r...</td>\n",
       "      <td>This is Phineas. He's a mystical boy. Only eve...</td>\n",
       "      <td>13</td>\n",
       "      <td>10</td>\n",
       "      <td>Phineas</td>\n",
       "      <td>https://pbs.twimg.com/media/DGKD1-bXoAAIAUK.jpg</td>\n",
       "      <td>1</td>\n",
       "      <td>orange</td>\n",
       "      <td>0.097049</td>\n",
       "      <td>...</td>\n",
       "      <td>False</td>\n",
       "      <td>banana</td>\n",
       "      <td>0.076110</td>\n",
       "      <td>False</td>\n",
       "      <td>33919</td>\n",
       "      <td>7052</td>\n",
       "      <td>9243705</td>\n",
       "      <td>147113</td>\n",
       "      <td>2017-08-01 16:23:56</td>\n",
       "      <td>NaN</td>\n",
       "    </tr>\n",
       "    <tr>\n",
       "      <th>1</th>\n",
       "      <td>892177421306343426</td>\n",
       "      <td>&lt;a href=\"http://twitter.com/download/iphone\" r...</td>\n",
       "      <td>This is Tilly. She's just checking pup on you....</td>\n",
       "      <td>13</td>\n",
       "      <td>10</td>\n",
       "      <td>Tilly</td>\n",
       "      <td>https://pbs.twimg.com/media/DGGmoV4XsAAUL6n.jpg</td>\n",
       "      <td>1</td>\n",
       "      <td>Chihuahua</td>\n",
       "      <td>0.323581</td>\n",
       "      <td>...</td>\n",
       "      <td>True</td>\n",
       "      <td>papillon</td>\n",
       "      <td>0.068957</td>\n",
       "      <td>True</td>\n",
       "      <td>29410</td>\n",
       "      <td>5327</td>\n",
       "      <td>9243705</td>\n",
       "      <td>147113</td>\n",
       "      <td>2017-08-01 00:17:27</td>\n",
       "      <td>NaN</td>\n",
       "    </tr>\n",
       "  </tbody>\n",
       "</table>\n",
       "<p>2 rows × 23 columns</p>\n",
       "</div>"
      ],
      "text/plain": [
       "             tweet_id                                             source  \\\n",
       "0  892420643555336193  <a href=\"http://twitter.com/download/iphone\" r...   \n",
       "1  892177421306343426  <a href=\"http://twitter.com/download/iphone\" r...   \n",
       "\n",
       "                                                text  rating_numerator  \\\n",
       "0  This is Phineas. He's a mystical boy. Only eve...                13   \n",
       "1  This is Tilly. She's just checking pup on you....                13   \n",
       "\n",
       "   rating_denominator     name  \\\n",
       "0                  10  Phineas   \n",
       "1                  10    Tilly   \n",
       "\n",
       "                                           jpg_url  img_num         p1  \\\n",
       "0  https://pbs.twimg.com/media/DGKD1-bXoAAIAUK.jpg        1     orange   \n",
       "1  https://pbs.twimg.com/media/DGGmoV4XsAAUL6n.jpg        1  Chihuahua   \n",
       "\n",
       "    p1_conf     ...      p2_dog        p3   p3_conf  p3_dog favorites  \\\n",
       "0  0.097049     ...       False    banana  0.076110   False     33919   \n",
       "1  0.323581     ...        True  papillon  0.068957    True     29410   \n",
       "\n",
       "   retweets  user_followers  user_favourites            date_time  life_stage  \n",
       "0      7052         9243705           147113  2017-08-01 16:23:56         NaN  \n",
       "1      5327         9243705           147113  2017-08-01 00:17:27         NaN  \n",
       "\n",
       "[2 rows x 23 columns]"
      ]
     },
     "execution_count": 222,
     "metadata": {},
     "output_type": "execute_result"
    }
   ],
   "source": [
    "df.head(2)"
   ]
  },
  {
   "cell_type": "code",
   "execution_count": 223,
   "metadata": {},
   "outputs": [
    {
     "name": "stdout",
     "output_type": "stream",
     "text": [
      "<class 'pandas.core.frame.DataFrame'>\n",
      "RangeIndex: 1941 entries, 0 to 1940\n",
      "Data columns (total 23 columns):\n",
      "tweet_id              1941 non-null int64\n",
      "source                1941 non-null object\n",
      "text                  1941 non-null object\n",
      "rating_numerator      1941 non-null int64\n",
      "rating_denominator    1941 non-null int64\n",
      "name                  1336 non-null object\n",
      "jpg_url               1941 non-null object\n",
      "img_num               1941 non-null int64\n",
      "p1                    1941 non-null object\n",
      "p1_conf               1941 non-null float64\n",
      "p1_dog                1941 non-null bool\n",
      "p2                    1941 non-null object\n",
      "p2_conf               1941 non-null float64\n",
      "p2_dog                1941 non-null bool\n",
      "p3                    1941 non-null object\n",
      "p3_conf               1941 non-null float64\n",
      "p3_dog                1941 non-null bool\n",
      "favorites             1941 non-null int64\n",
      "retweets              1941 non-null int64\n",
      "user_followers        1941 non-null int64\n",
      "user_favourites       1941 non-null int64\n",
      "date_time             1941 non-null object\n",
      "life_stage            301 non-null object\n",
      "dtypes: bool(3), float64(3), int64(8), object(9)\n",
      "memory usage: 309.0+ KB\n"
     ]
    }
   ],
   "source": [
    "df.info()"
   ]
  },
  {
   "cell_type": "markdown",
   "metadata": {},
   "source": [
    "### 6.1  Life stage  of dog with the most favorite count"
   ]
  },
  {
   "cell_type": "code",
   "execution_count": 224,
   "metadata": {},
   "outputs": [
    {
     "data": {
      "text/plain": [
       "life_stage\n",
       "doggo            145364\n",
       "doggo floofer     14893\n",
       "doggo pupper      49546\n",
       "doggo puppo       42013\n",
       "floofer           28213\n",
       "pupper           109219\n",
       "puppo            124526\n",
       "Name: favorites, dtype: int64"
      ]
     },
     "execution_count": 224,
     "metadata": {},
     "output_type": "execute_result"
    }
   ],
   "source": [
    "# life stage of dog with the most favourie count\n",
    "df.groupby(['life_stage'])['favorites'].max()"
   ]
  },
  {
   "cell_type": "code",
   "execution_count": 225,
   "metadata": {},
   "outputs": [
    {
     "data": {
      "image/png": "[encoded data removed]",
      "text/plain": [
       "<matplotlib.figure.Figure at 0x7f2549a3ac18>"
      ]
     },
     "metadata": {
      "needs_background": "light"
     },
     "output_type": "display_data"
    }
   ],
   "source": [
    "# bar char of the life stages of dogs and thier maximumn favourite counts\n",
    "df.groupby(['life_stage'])['favorites'].max().plot(kind='bar');\n",
    "plt.title('Life stage of dogs and their favourite counts');\n",
    "plt.ylabel('Couts')\n",
    "plt.xlabel('Life Stages');"
   ]
  },
  {
   "cell_type": "code",
   "execution_count": 226,
   "metadata": {},
   "outputs": [],
   "source": [
    "# Dogs in the doggo stage of development had the most favourite counts amomngst those who indicated thier dog's life stages."
   ]
  },
  {
   "cell_type": "markdown",
   "metadata": {},
   "source": [
    "### 6.2  What life stage of dog did owners feel best about?"
   ]
  },
  {
   "cell_type": "code",
   "execution_count": 227,
   "metadata": {},
   "outputs": [
    {
     "data": {
      "text/plain": [
       "life_stage\n",
       "doggo             736\n",
       "doggo floofer      11\n",
       "doggo pupper       88\n",
       "doggo puppo        13\n",
       "floofer            84\n",
       "pupper           2127\n",
       "puppo             264\n",
       "Name: rating_numerator, dtype: int64"
      ]
     },
     "execution_count": 227,
     "metadata": {},
     "output_type": "execute_result"
    }
   ],
   "source": [
    "# Life stage of dogs with thier total number of ratings\n",
    "df.groupby(['life_stage'])['rating_numerator'].sum()"
   ]
  },
  {
   "cell_type": "code",
   "execution_count": 228,
   "metadata": {},
   "outputs": [
    {
     "data": {
      "image/png": "[encoded data removed]",
      "text/plain": [
       "<matplotlib.figure.Figure at 0x7f25499e68d0>"
      ]
     },
     "metadata": {
      "needs_background": "light"
     },
     "output_type": "display_data"
    }
   ],
   "source": [
    "# Bar chart of the life stage of dogs owners feel best about by their total sum of vote rates\n",
    "df.groupby(['life_stage'])['rating_numerator'].sum().plot(kind='bar');\n",
    "plt.title('Life stage of dogs by thier sum number of ratings')\n",
    "plt.xlabel('Life Stage of Dogs')\n",
    "plt.ylabel('Sum Number of Ratings');"
   ]
  },
  {
   "cell_type": "code",
   "execution_count": 229,
   "metadata": {},
   "outputs": [],
   "source": [
    "# Owners of dogs who posted thier dog life stage felt best about dogs in the pupper develeopment stage. "
   ]
  },
  {
   "cell_type": "markdown",
   "metadata": {},
   "source": [
    "### 6.3  How many posts included the life stage of the dog"
   ]
  },
  {
   "cell_type": "code",
   "execution_count": 230,
   "metadata": {},
   "outputs": [],
   "source": [
    "no_life_stage = df[df['life_stage'].isnull() == True]\n",
    "life_stage = df[df['life_stage'].isnull() == False]\n"
   ]
  },
  {
   "cell_type": "code",
   "execution_count": 231,
   "metadata": {},
   "outputs": [
    {
     "data": {
      "text/plain": [
       "1640"
      ]
     },
     "execution_count": 231,
     "metadata": {},
     "output_type": "execute_result"
    }
   ],
   "source": [
    "total_no_life_stage = len(no_life_stage.index)\n",
    "total_no_life_stage"
   ]
  },
  {
   "cell_type": "code",
   "execution_count": 232,
   "metadata": {},
   "outputs": [
    {
     "data": {
      "text/plain": [
       "301"
      ]
     },
     "execution_count": 232,
     "metadata": {},
     "output_type": "execute_result"
    }
   ],
   "source": [
    "total_life_stage = len(life_stage.index)\n",
    "total_life_stage"
   ]
  },
  {
   "cell_type": "code",
   "execution_count": 233,
   "metadata": {},
   "outputs": [],
   "source": [
    "def bar_plot(height1, height2, x_label, y_label, bar_title):\n",
    "    \"\"\"\n",
    "    The function that plots a bar chart using the locations, height, and tick_label. The labels for the x axis, y axis chart title are also taken into consideration. \n",
    "    \"\"\"\n",
    "    height = [height1, height2]\n",
    "    labels = [label1, label2]\n",
    "    locations=[1,2]\n",
    "    plot = plt.bar(locations, height, tick_label=labels)    \n",
    "    plt.xlabel(x_label)\n",
    "    plt.ylabel(y_label)\n",
    "    plt.title(bar_title)\n",
    "    return plot"
   ]
  },
  {
   "cell_type": "code",
   "execution_count": 234,
   "metadata": {},
   "outputs": [
    {
     "data": {
      "image/png": "[encoded data removed]",
      "text/plain": [
       "<matplotlib.figure.Figure at 0x7f2549ed5358>"
      ]
     },
     "metadata": {
      "needs_background": "light"
     },
     "output_type": "display_data"
    }
   ],
   "source": [
    "# Visual representation of posts with the life stage of the dogs included or not\n",
    "height1 = total_life_stage\n",
    "height2 = total_no_life_stage\n",
    "label1 = 'Life stage inputed'\n",
    "label2 = 'Life stage not inputed'\n",
    "bar_title = 'Number of posts with and without dog\\'s life stage'\n",
    "x_label = 'Life stage'\n",
    "y_label = 'Count'\n",
    "bar_plot(height1, height2, x_label, y_label, bar_title);"
   ]
  },
  {
   "cell_type": "code",
   "execution_count": 235,
   "metadata": {},
   "outputs": [],
   "source": [
    "# A total of 1,941 posts, a total of 301 posts included the life stage of the dog and 1640 did not include the life stage of the dog."
   ]
  },
  {
   "cell_type": "markdown",
   "metadata": {},
   "source": [
    "### 6.4  Does having the life stage of the dog included in a post increase the possibility of a higher favorite count?"
   ]
  },
  {
   "cell_type": "code",
   "execution_count": 236,
   "metadata": {},
   "outputs": [
    {
     "data": {
      "text/plain": [
       "12084828"
      ]
     },
     "execution_count": 236,
     "metadata": {},
     "output_type": "execute_result"
    }
   ],
   "source": [
    "# Total sum of favorites count for posts without the life stage of dog included\n",
    "no_life_stage.favorites.sum()"
   ]
  },
  {
   "cell_type": "code",
   "execution_count": 237,
   "metadata": {},
   "outputs": [
    {
     "data": {
      "text/plain": [
       "3018886"
      ]
     },
     "execution_count": 237,
     "metadata": {},
     "output_type": "execute_result"
    }
   ],
   "source": [
    "# Total sum of favorites count for posts with the life stage of dog included\n",
    "life_stage.favorites.sum()"
   ]
  },
  {
   "cell_type": "code",
   "execution_count": 238,
   "metadata": {},
   "outputs": [
    {
     "data": {
      "text/plain": [
       "15103714"
      ]
     },
     "execution_count": 238,
     "metadata": {},
     "output_type": "execute_result"
    }
   ],
   "source": [
    "# Total sum of favorite counts\n",
    "df.favorites.sum()"
   ]
  },
  {
   "cell_type": "code",
   "execution_count": 239,
   "metadata": {},
   "outputs": [
    {
     "data": {
      "text/plain": [
       "20.0"
      ]
     },
     "execution_count": 239,
     "metadata": {},
     "output_type": "execute_result"
    }
   ],
   "source": [
    "# Favorites percentage of posts with the life of dog stage INCLUDED\n",
    "percentage_with_life_stage = ((life_stage.favorites.sum()/df.favorites.sum()) * 100).round()\n",
    "percentage_with_life_stage"
   ]
  },
  {
   "cell_type": "code",
   "execution_count": 240,
   "metadata": {},
   "outputs": [
    {
     "data": {
      "text/plain": [
       "80.0"
      ]
     },
     "execution_count": 240,
     "metadata": {},
     "output_type": "execute_result"
    }
   ],
   "source": [
    "# Favorites percentage of posts with the life of dog stage NOT INCLUDED\n",
    "percentage_no_life_stage = ((no_life_stage.favorites.sum()/df.favorites.sum()) * 100).round()\n",
    "percentage_no_life_stage"
   ]
  },
  {
   "cell_type": "code",
   "execution_count": 241,
   "metadata": {},
   "outputs": [
    {
     "data": {
      "image/png": "[encoded data removed]",
      "text/plain": [
       "<matplotlib.figure.Figure at 0x7f2549e217f0>"
      ]
     },
     "metadata": {
      "needs_background": "light"
     },
     "output_type": "display_data"
    }
   ],
   "source": [
    "# Visual representation of tweets with life stage or not by thier percentage favourite counts\n",
    "height1 = percentage_with_life_stage\n",
    "height2 = percentage_no_life_stage\n",
    "label1 = 'Life stage inputed'\n",
    "label2 = 'Life stage not inputed'\n",
    "bar_title = 'Tweets with life stage or not by thier percentage favourite counts'\n",
    "x_label = 'Life stage'\n",
    "y_label = 'Count'\n",
    "bar_plot(height1, height2, x_label, y_label, bar_title);"
   ]
  },
  {
   "cell_type": "code",
   "execution_count": 242,
   "metadata": {},
   "outputs": [],
   "source": [
    "# Posts without life stages had a higher percentage sum of favourite counts (80%) than posts that had the life stage of dogs included (20%). Having the life stage of a dog included in a post does not mean it would have a high favourite count."
   ]
  },
  {
   "cell_type": "markdown",
   "metadata": {
    "collapsed": true
   },
   "source": [
    "###  6.5  Is there a correlation between favourite counts and the number of retweets a post gets?"
   ]
  },
  {
   "cell_type": "code",
   "execution_count": 243,
   "metadata": {},
   "outputs": [
    {
     "data": {
      "image/png": "[encoded data removed]",
      "text/plain": [
       "<matplotlib.figure.Figure at 0x7f2549a510b8>"
      ]
     },
     "metadata": {
      "needs_background": "light"
     },
     "output_type": "display_data"
    }
   ],
   "source": [
    "# correlation plot\n",
    "f,ax = plt.subplots(figsize=(8, 8))\n",
    "sns.heatmap(df[['source','user_followers','favorites','retweets',\n",
    "               'rating_numerator', 'life_stage']].corr(), annot=True, linewidths=.8, fmt= '.1f',ax=ax)\n",
    "plt.title('Correlation Heat Map');"
   ]
  },
  {
   "cell_type": "code",
   "execution_count": 244,
   "metadata": {},
   "outputs": [
    {
     "data": {
      "image/png": "[encoded data removed]",
      "text/plain": [
       "<matplotlib.figure.Figure at 0x7f2549d37f98>"
      ]
     },
     "metadata": {
      "needs_background": "light"
     },
     "output_type": "display_data"
    }
   ],
   "source": [
    "# scatter plot of the relationship between retweets and favourite counts\n",
    "plt.scatter(df['retweets'], df['favorites'])\n",
    "plt.xlabel('Favorites')\n",
    "plt.ylabel('Retweets')\n",
    "plt.title('Retweets and favorites Scatter plot');"
   ]
  },
  {
   "cell_type": "code",
   "execution_count": 245,
   "metadata": {},
   "outputs": [],
   "source": [
    "# There is a high positive correlation between the number of favourite counts a post gets and the number of retweets on that post."
   ]
  },
  {
   "cell_type": "markdown",
   "metadata": {},
   "source": [
    "### 6.6  What is the name, picture url and the life stage of the most favourite dog?"
   ]
  },
  {
   "cell_type": "code",
   "execution_count": 258,
   "metadata": {},
   "outputs": [
    {
     "data": {
      "text/html": [
       "<div>\n",
       "<style scoped>\n",
       "    .dataframe tbody tr th:only-of-type {\n",
       "        vertical-align: middle;\n",
       "    }\n",
       "\n",
       "    .dataframe tbody tr th {\n",
       "        vertical-align: top;\n",
       "    }\n",
       "\n",
       "    .dataframe thead th {\n",
       "        text-align: right;\n",
       "    }\n",
       "</style>\n",
       "<table border=\"1\" class=\"dataframe\">\n",
       "  <thead>\n",
       "    <tr style=\"text-align: right;\">\n",
       "      <th></th>\n",
       "      <th>favorites</th>\n",
       "      <th>life_stage</th>\n",
       "      <th>name</th>\n",
       "    </tr>\n",
       "    <tr>\n",
       "      <th>jpg_url</th>\n",
       "      <th></th>\n",
       "      <th></th>\n",
       "      <th></th>\n",
       "    </tr>\n",
       "  </thead>\n",
       "  <tbody>\n",
       "    <tr>\n",
       "      <th>https://pbs.twimg.com/ext_tw_video_thumb/744234667679821824/pu/img/1GaWmtJtdqzZV7jy.jpg</th>\n",
       "      <td>145364</td>\n",
       "      <td>doggo</td>\n",
       "      <td>NaN</td>\n",
       "    </tr>\n",
       "    <tr>\n",
       "      <th>https://pbs.twimg.com/media/C2tugXLXgAArJO4.jpg</th>\n",
       "      <td>124526</td>\n",
       "      <td>puppo</td>\n",
       "      <td>NaN</td>\n",
       "    </tr>\n",
       "    <tr>\n",
       "      <th>https://pbs.twimg.com/ext_tw_video_thumb/807106774843039744/pu/img/8XZg1xW35Xp2J6JW.jpg</th>\n",
       "      <td>112136</td>\n",
       "      <td>NaN</td>\n",
       "      <td>Stephan</td>\n",
       "    </tr>\n",
       "    <tr>\n",
       "      <th>https://pbs.twimg.com/media/DAZAUfBXcAAG_Nn.jpg</th>\n",
       "      <td>109219</td>\n",
       "      <td>pupper</td>\n",
       "      <td>Jamesy</td>\n",
       "    </tr>\n",
       "    <tr>\n",
       "      <th>https://pbs.twimg.com/ext_tw_video_thumb/739238016737267712/pu/img/-tLpyiuIzD5zR1et.jpg</th>\n",
       "      <td>107575</td>\n",
       "      <td>doggo</td>\n",
       "      <td>NaN</td>\n",
       "    </tr>\n",
       "    <tr>\n",
       "      <th>https://pbs.twimg.com/ext_tw_video_thumb/879415784908390401/pu/img/cX7XI1TnUsseGET5.jpg</th>\n",
       "      <td>93169</td>\n",
       "      <td>NaN</td>\n",
       "      <td>Duddles</td>\n",
       "    </tr>\n",
       "    <tr>\n",
       "      <th>https://pbs.twimg.com/media/C12whDoVEAALRxa.jpg</th>\n",
       "      <td>82943</td>\n",
       "      <td>doggo</td>\n",
       "      <td>Bo</td>\n",
       "    </tr>\n",
       "    <tr>\n",
       "      <th>https://pbs.twimg.com/ext_tw_video_thumb/859196962498805762/pu/img/-yBpr4-o4GJZECYE.jpg</th>\n",
       "      <td>80874</td>\n",
       "      <td>NaN</td>\n",
       "      <td>NaN</td>\n",
       "    </tr>\n",
       "    <tr>\n",
       "      <th>https://pbs.twimg.com/media/DBQwlFCXkAACSkI.jpg</th>\n",
       "      <td>74157</td>\n",
       "      <td>NaN</td>\n",
       "      <td>Zoey</td>\n",
       "    </tr>\n",
       "    <tr>\n",
       "      <th>https://pbs.twimg.com/ext_tw_video_thumb/678399528077250560/pu/img/BOjUNHRsYLeSo0hl.jpg</th>\n",
       "      <td>73772</td>\n",
       "      <td>NaN</td>\n",
       "      <td>NaN</td>\n",
       "    </tr>\n",
       "    <tr>\n",
       "      <th>https://pbs.twimg.com/media/CWJqN9iWwAAg86R.jpg</th>\n",
       "      <td>71201</td>\n",
       "      <td>NaN</td>\n",
       "      <td>Kenneth</td>\n",
       "    </tr>\n",
       "    <tr>\n",
       "      <th>https://pbs.twimg.com/media/CzG425nWgAAnP7P.jpg</th>\n",
       "      <td>70880</td>\n",
       "      <td>NaN</td>\n",
       "      <td>NaN</td>\n",
       "    </tr>\n",
       "    <tr>\n",
       "      <th>https://pbs.twimg.com/media/DC5YqoQW0AArOLH.jpg</th>\n",
       "      <td>69555</td>\n",
       "      <td>NaN</td>\n",
       "      <td>Aja</td>\n",
       "    </tr>\n",
       "    <tr>\n",
       "      <th>https://pbs.twimg.com/media/DEfjEaNXkAAtPlj.jpg</th>\n",
       "      <td>67507</td>\n",
       "      <td>NaN</td>\n",
       "      <td>Earl</td>\n",
       "    </tr>\n",
       "    <tr>\n",
       "      <th>https://pbs.twimg.com/media/C_bIo7QXYAAGfPu.jpg</th>\n",
       "      <td>66528</td>\n",
       "      <td>NaN</td>\n",
       "      <td>NaN</td>\n",
       "    </tr>\n",
       "    <tr>\n",
       "      <th>https://pbs.twimg.com/media/C4bTH6nWMAAX_bJ.jpg</th>\n",
       "      <td>62753</td>\n",
       "      <td>NaN</td>\n",
       "      <td>Lilly</td>\n",
       "    </tr>\n",
       "    <tr>\n",
       "      <th>https://pbs.twimg.com/media/DFDw2tyUQAAAFke.jpg</th>\n",
       "      <td>60374</td>\n",
       "      <td>NaN</td>\n",
       "      <td>Canela</td>\n",
       "    </tr>\n",
       "    <tr>\n",
       "      <th>https://pbs.twimg.com/media/DA7iHL5U0AA1OQo.jpg</th>\n",
       "      <td>58188</td>\n",
       "      <td>NaN</td>\n",
       "      <td>Walter</td>\n",
       "    </tr>\n",
       "    <tr>\n",
       "      <th>https://pbs.twimg.com/media/DFyBahAVwAAhUTd.jpg</th>\n",
       "      <td>57040</td>\n",
       "      <td>NaN</td>\n",
       "      <td>NaN</td>\n",
       "    </tr>\n",
       "    <tr>\n",
       "      <th>https://pbs.twimg.com/media/C3TjvitXAAAI-QH.jpg</th>\n",
       "      <td>54130</td>\n",
       "      <td>puppo</td>\n",
       "      <td>NaN</td>\n",
       "    </tr>\n",
       "    <tr>\n",
       "      <th>https://pbs.twimg.com/media/C4E99ygWcAAQpPs.jpg</th>\n",
       "      <td>50441</td>\n",
       "      <td>NaN</td>\n",
       "      <td>Dexter</td>\n",
       "    </tr>\n",
       "    <tr>\n",
       "      <th>https://pbs.twimg.com/media/CiyHLocU4AI2pJu.jpg</th>\n",
       "      <td>49546</td>\n",
       "      <td>doggo pupper</td>\n",
       "      <td>NaN</td>\n",
       "    </tr>\n",
       "    <tr>\n",
       "      <th>https://pbs.twimg.com/ext_tw_video_thumb/817827663108771841/pu/img/e9oi839RGWJR37jF.jpg</th>\n",
       "      <td>48834</td>\n",
       "      <td>NaN</td>\n",
       "      <td>Buddy</td>\n",
       "    </tr>\n",
       "    <tr>\n",
       "      <th>https://pbs.twimg.com/ext_tw_video_thumb/795464066940764160/pu/img/jPkMMQXdydb7CqFX.jpg</th>\n",
       "      <td>46998</td>\n",
       "      <td>doggo</td>\n",
       "      <td>NaN</td>\n",
       "    </tr>\n",
       "    <tr>\n",
       "      <th>https://pbs.twimg.com/media/DAXXDQNXgAAoYQH.jpg</th>\n",
       "      <td>46782</td>\n",
       "      <td>NaN</td>\n",
       "      <td>Coco</td>\n",
       "    </tr>\n",
       "    <tr>\n",
       "      <th>https://pbs.twimg.com/ext_tw_video_thumb/761672828462718981/pu/img/R00UYAAWB3GtuHdI.jpg</th>\n",
       "      <td>46455</td>\n",
       "      <td>NaN</td>\n",
       "      <td>NaN</td>\n",
       "    </tr>\n",
       "    <tr>\n",
       "      <th>https://pbs.twimg.com/media/DDxPFwbWAAEbVVR.jpg</th>\n",
       "      <td>44680</td>\n",
       "      <td>NaN</td>\n",
       "      <td>Gary</td>\n",
       "    </tr>\n",
       "    <tr>\n",
       "      <th>https://pbs.twimg.com/ext_tw_video_thumb/881535971568889856/pu/img/9bawiZ--8FKywTkz.jpg</th>\n",
       "      <td>43563</td>\n",
       "      <td>pupper</td>\n",
       "      <td>NaN</td>\n",
       "    </tr>\n",
       "    <tr>\n",
       "      <th>https://pbs.twimg.com/media/C12x-JTVIAAzdfl.jpg</th>\n",
       "      <td>43168</td>\n",
       "      <td>doggo</td>\n",
       "      <td>Sunny</td>\n",
       "    </tr>\n",
       "    <tr>\n",
       "      <th>https://pbs.twimg.com/media/CUIzWk_UwAAfUNq.jpg</th>\n",
       "      <td>42433</td>\n",
       "      <td>NaN</td>\n",
       "      <td>Pipsy</td>\n",
       "    </tr>\n",
       "    <tr>\n",
       "      <th>...</th>\n",
       "      <td>...</td>\n",
       "      <td>...</td>\n",
       "      <td>...</td>\n",
       "    </tr>\n",
       "    <tr>\n",
       "      <th>https://pbs.twimg.com/media/CUdqjvAWUAANfoU.jpg</th>\n",
       "      <td>182</td>\n",
       "      <td>NaN</td>\n",
       "      <td>Kallie</td>\n",
       "    </tr>\n",
       "    <tr>\n",
       "      <th>https://pbs.twimg.com/media/CT9cx0tUEAAhNN_.jpg</th>\n",
       "      <td>179</td>\n",
       "      <td>NaN</td>\n",
       "      <td>NaN</td>\n",
       "    </tr>\n",
       "    <tr>\n",
       "      <th>https://pbs.twimg.com/media/CUOTFZOW4AABsfW.jpg</th>\n",
       "      <td>176</td>\n",
       "      <td>NaN</td>\n",
       "      <td>NaN</td>\n",
       "    </tr>\n",
       "    <tr>\n",
       "      <th>https://pbs.twimg.com/media/CUNHMXTU8AAS3HH.jpg</th>\n",
       "      <td>171</td>\n",
       "      <td>NaN</td>\n",
       "      <td>Reese</td>\n",
       "    </tr>\n",
       "    <tr>\n",
       "      <th>https://pbs.twimg.com/media/CT9OwFIWEAMuRje.jpg</th>\n",
       "      <td>168</td>\n",
       "      <td>NaN</td>\n",
       "      <td>NaN</td>\n",
       "    </tr>\n",
       "    <tr>\n",
       "      <th>https://pbs.twimg.com/media/CUMOyd3XIAAl13H.jpg</th>\n",
       "      <td>168</td>\n",
       "      <td>NaN</td>\n",
       "      <td>Fwed</td>\n",
       "    </tr>\n",
       "    <tr>\n",
       "      <th>https://pbs.twimg.com/media/CUJK18UWEAEg7AR.jpg</th>\n",
       "      <td>165</td>\n",
       "      <td>NaN</td>\n",
       "      <td>NaN</td>\n",
       "    </tr>\n",
       "    <tr>\n",
       "      <th>https://pbs.twimg.com/media/CUHREBXXAAE6A9b.jpg</th>\n",
       "      <td>163</td>\n",
       "      <td>NaN</td>\n",
       "      <td>NaN</td>\n",
       "    </tr>\n",
       "    <tr>\n",
       "      <th>https://pbs.twimg.com/media/CT9vZEYWUAAlZ05.jpg</th>\n",
       "      <td>163</td>\n",
       "      <td>NaN</td>\n",
       "      <td>NaN</td>\n",
       "    </tr>\n",
       "    <tr>\n",
       "      <th>https://pbs.twimg.com/media/CUCQTpEWEAA7EDz.jpg</th>\n",
       "      <td>161</td>\n",
       "      <td>NaN</td>\n",
       "      <td>Christoper</td>\n",
       "    </tr>\n",
       "    <tr>\n",
       "      <th>https://pbs.twimg.com/media/CT8T1mtUwAA3aqm.jpg</th>\n",
       "      <td>152</td>\n",
       "      <td>NaN</td>\n",
       "      <td>NaN</td>\n",
       "    </tr>\n",
       "    <tr>\n",
       "      <th>https://pbs.twimg.com/media/CT-D2ZHWIAA3gK1.jpg</th>\n",
       "      <td>148</td>\n",
       "      <td>NaN</td>\n",
       "      <td>NaN</td>\n",
       "    </tr>\n",
       "    <tr>\n",
       "      <th>https://pbs.twimg.com/media/CUHkkJpXIAA2w3n.jpg</th>\n",
       "      <td>144</td>\n",
       "      <td>NaN</td>\n",
       "      <td>NaN</td>\n",
       "    </tr>\n",
       "    <tr>\n",
       "      <th>https://pbs.twimg.com/media/CT5w9gUW4AAsBNN.jpg</th>\n",
       "      <td>143</td>\n",
       "      <td>NaN</td>\n",
       "      <td>NaN</td>\n",
       "    </tr>\n",
       "    <tr>\n",
       "      <th>https://pbs.twimg.com/media/CT-g-0DUwAEQdSn.jpg</th>\n",
       "      <td>139</td>\n",
       "      <td>NaN</td>\n",
       "      <td>NaN</td>\n",
       "    </tr>\n",
       "    <tr>\n",
       "      <th>https://pbs.twimg.com/media/CT-nsTQWEAEkyDn.jpg</th>\n",
       "      <td>139</td>\n",
       "      <td>NaN</td>\n",
       "      <td>NaN</td>\n",
       "    </tr>\n",
       "    <tr>\n",
       "      <th>https://pbs.twimg.com/media/CT51-JJUEAA6hV8.jpg</th>\n",
       "      <td>134</td>\n",
       "      <td>NaN</td>\n",
       "      <td>NaN</td>\n",
       "    </tr>\n",
       "    <tr>\n",
       "      <th>https://pbs.twimg.com/media/CT5cN_3WEAAlOoZ.jpg</th>\n",
       "      <td>128</td>\n",
       "      <td>NaN</td>\n",
       "      <td>NaN</td>\n",
       "    </tr>\n",
       "    <tr>\n",
       "      <th>https://pbs.twimg.com/media/CT5Jof1WUAEuVxN.jpg</th>\n",
       "      <td>115</td>\n",
       "      <td>NaN</td>\n",
       "      <td>NaN</td>\n",
       "    </tr>\n",
       "    <tr>\n",
       "      <th>https://pbs.twimg.com/media/CT42GRgUYAA5iDo.jpg</th>\n",
       "      <td>112</td>\n",
       "      <td>NaN</td>\n",
       "      <td>NaN</td>\n",
       "    </tr>\n",
       "    <tr>\n",
       "      <th>https://pbs.twimg.com/media/CT-YWb7U8AA7QnN.jpg</th>\n",
       "      <td>108</td>\n",
       "      <td>NaN</td>\n",
       "      <td>Walter</td>\n",
       "    </tr>\n",
       "    <tr>\n",
       "      <th>https://pbs.twimg.com/media/CT-pKmRWIAAxUWj.jpg</th>\n",
       "      <td>106</td>\n",
       "      <td>NaN</td>\n",
       "      <td>NaN</td>\n",
       "    </tr>\n",
       "    <tr>\n",
       "      <th>https://pbs.twimg.com/media/CT8QCd1WEAADXws.jpg</th>\n",
       "      <td>100</td>\n",
       "      <td>NaN</td>\n",
       "      <td>NaN</td>\n",
       "    </tr>\n",
       "    <tr>\n",
       "      <th>https://pbs.twimg.com/media/CT4521TWwAEvMyu.jpg</th>\n",
       "      <td>100</td>\n",
       "      <td>NaN</td>\n",
       "      <td>NaN</td>\n",
       "    </tr>\n",
       "    <tr>\n",
       "      <th>https://pbs.twimg.com/media/CT5Qw94XAAA_2dP.jpg</th>\n",
       "      <td>99</td>\n",
       "      <td>NaN</td>\n",
       "      <td>NaN</td>\n",
       "    </tr>\n",
       "    <tr>\n",
       "      <th>https://pbs.twimg.com/media/CT-NvwmW4AAugGZ.jpg</th>\n",
       "      <td>93</td>\n",
       "      <td>NaN</td>\n",
       "      <td>NaN</td>\n",
       "    </tr>\n",
       "    <tr>\n",
       "      <th>https://pbs.twimg.com/media/CT5m4VGWEAAtKc8.jpg</th>\n",
       "      <td>93</td>\n",
       "      <td>NaN</td>\n",
       "      <td>NaN</td>\n",
       "    </tr>\n",
       "    <tr>\n",
       "      <th>https://pbs.twimg.com/media/CT-yU5QWwAEjLX5.jpg</th>\n",
       "      <td>90</td>\n",
       "      <td>NaN</td>\n",
       "      <td>Scout</td>\n",
       "    </tr>\n",
       "    <tr>\n",
       "      <th>https://pbs.twimg.com/media/CT5IQmsXIAAKY4A.jpg</th>\n",
       "      <td>89</td>\n",
       "      <td>NaN</td>\n",
       "      <td>NaN</td>\n",
       "    </tr>\n",
       "    <tr>\n",
       "      <th>https://pbs.twimg.com/media/CT54YGiWUAEZnoK.jpg</th>\n",
       "      <td>66</td>\n",
       "      <td>NaN</td>\n",
       "      <td>NaN</td>\n",
       "    </tr>\n",
       "  </tbody>\n",
       "</table>\n",
       "<p>1941 rows × 3 columns</p>\n",
       "</div>"
      ],
      "text/plain": [
       "                                                    favorites    life_stage  \\\n",
       "jpg_url                                                                       \n",
       "https://pbs.twimg.com/ext_tw_video_thumb/744234...     145364         doggo   \n",
       "https://pbs.twimg.com/media/C2tugXLXgAArJO4.jpg        124526         puppo   \n",
       "https://pbs.twimg.com/ext_tw_video_thumb/807106...     112136           NaN   \n",
       "https://pbs.twimg.com/media/DAZAUfBXcAAG_Nn.jpg        109219        pupper   \n",
       "https://pbs.twimg.com/ext_tw_video_thumb/739238...     107575         doggo   \n",
       "https://pbs.twimg.com/ext_tw_video_thumb/879415...      93169           NaN   \n",
       "https://pbs.twimg.com/media/C12whDoVEAALRxa.jpg         82943         doggo   \n",
       "https://pbs.twimg.com/ext_tw_video_thumb/859196...      80874           NaN   \n",
       "https://pbs.twimg.com/media/DBQwlFCXkAACSkI.jpg         74157           NaN   \n",
       "https://pbs.twimg.com/ext_tw_video_thumb/678399...      73772           NaN   \n",
       "https://pbs.twimg.com/media/CWJqN9iWwAAg86R.jpg         71201           NaN   \n",
       "https://pbs.twimg.com/media/CzG425nWgAAnP7P.jpg         70880           NaN   \n",
       "https://pbs.twimg.com/media/DC5YqoQW0AArOLH.jpg         69555           NaN   \n",
       "https://pbs.twimg.com/media/DEfjEaNXkAAtPlj.jpg         67507           NaN   \n",
       "https://pbs.twimg.com/media/C_bIo7QXYAAGfPu.jpg         66528           NaN   \n",
       "https://pbs.twimg.com/media/C4bTH6nWMAAX_bJ.jpg         62753           NaN   \n",
       "https://pbs.twimg.com/media/DFDw2tyUQAAAFke.jpg         60374           NaN   \n",
       "https://pbs.twimg.com/media/DA7iHL5U0AA1OQo.jpg         58188           NaN   \n",
       "https://pbs.twimg.com/media/DFyBahAVwAAhUTd.jpg         57040           NaN   \n",
       "https://pbs.twimg.com/media/C3TjvitXAAAI-QH.jpg         54130         puppo   \n",
       "https://pbs.twimg.com/media/C4E99ygWcAAQpPs.jpg         50441           NaN   \n",
       "https://pbs.twimg.com/media/CiyHLocU4AI2pJu.jpg         49546  doggo pupper   \n",
       "https://pbs.twimg.com/ext_tw_video_thumb/817827...      48834           NaN   \n",
       "https://pbs.twimg.com/ext_tw_video_thumb/795464...      46998         doggo   \n",
       "https://pbs.twimg.com/media/DAXXDQNXgAAoYQH.jpg         46782           NaN   \n",
       "https://pbs.twimg.com/ext_tw_video_thumb/761672...      46455           NaN   \n",
       "https://pbs.twimg.com/media/DDxPFwbWAAEbVVR.jpg         44680           NaN   \n",
       "https://pbs.twimg.com/ext_tw_video_thumb/881535...      43563        pupper   \n",
       "https://pbs.twimg.com/media/C12x-JTVIAAzdfl.jpg         43168         doggo   \n",
       "https://pbs.twimg.com/media/CUIzWk_UwAAfUNq.jpg         42433           NaN   \n",
       "...                                                       ...           ...   \n",
       "https://pbs.twimg.com/media/CUdqjvAWUAANfoU.jpg           182           NaN   \n",
       "https://pbs.twimg.com/media/CT9cx0tUEAAhNN_.jpg           179           NaN   \n",
       "https://pbs.twimg.com/media/CUOTFZOW4AABsfW.jpg           176           NaN   \n",
       "https://pbs.twimg.com/media/CUNHMXTU8AAS3HH.jpg           171           NaN   \n",
       "https://pbs.twimg.com/media/CT9OwFIWEAMuRje.jpg           168           NaN   \n",
       "https://pbs.twimg.com/media/CUMOyd3XIAAl13H.jpg           168           NaN   \n",
       "https://pbs.twimg.com/media/CUJK18UWEAEg7AR.jpg           165           NaN   \n",
       "https://pbs.twimg.com/media/CUHREBXXAAE6A9b.jpg           163           NaN   \n",
       "https://pbs.twimg.com/media/CT9vZEYWUAAlZ05.jpg           163           NaN   \n",
       "https://pbs.twimg.com/media/CUCQTpEWEAA7EDz.jpg           161           NaN   \n",
       "https://pbs.twimg.com/media/CT8T1mtUwAA3aqm.jpg           152           NaN   \n",
       "https://pbs.twimg.com/media/CT-D2ZHWIAA3gK1.jpg           148           NaN   \n",
       "https://pbs.twimg.com/media/CUHkkJpXIAA2w3n.jpg           144           NaN   \n",
       "https://pbs.twimg.com/media/CT5w9gUW4AAsBNN.jpg           143           NaN   \n",
       "https://pbs.twimg.com/media/CT-g-0DUwAEQdSn.jpg           139           NaN   \n",
       "https://pbs.twimg.com/media/CT-nsTQWEAEkyDn.jpg           139           NaN   \n",
       "https://pbs.twimg.com/media/CT51-JJUEAA6hV8.jpg           134           NaN   \n",
       "https://pbs.twimg.com/media/CT5cN_3WEAAlOoZ.jpg           128           NaN   \n",
       "https://pbs.twimg.com/media/CT5Jof1WUAEuVxN.jpg           115           NaN   \n",
       "https://pbs.twimg.com/media/CT42GRgUYAA5iDo.jpg           112           NaN   \n",
       "https://pbs.twimg.com/media/CT-YWb7U8AA7QnN.jpg           108           NaN   \n",
       "https://pbs.twimg.com/media/CT-pKmRWIAAxUWj.jpg           106           NaN   \n",
       "https://pbs.twimg.com/media/CT8QCd1WEAADXws.jpg           100           NaN   \n",
       "https://pbs.twimg.com/media/CT4521TWwAEvMyu.jpg           100           NaN   \n",
       "https://pbs.twimg.com/media/CT5Qw94XAAA_2dP.jpg            99           NaN   \n",
       "https://pbs.twimg.com/media/CT-NvwmW4AAugGZ.jpg            93           NaN   \n",
       "https://pbs.twimg.com/media/CT5m4VGWEAAtKc8.jpg            93           NaN   \n",
       "https://pbs.twimg.com/media/CT-yU5QWwAEjLX5.jpg            90           NaN   \n",
       "https://pbs.twimg.com/media/CT5IQmsXIAAKY4A.jpg            89           NaN   \n",
       "https://pbs.twimg.com/media/CT54YGiWUAEZnoK.jpg            66           NaN   \n",
       "\n",
       "                                                          name  \n",
       "jpg_url                                                         \n",
       "https://pbs.twimg.com/ext_tw_video_thumb/744234...         NaN  \n",
       "https://pbs.twimg.com/media/C2tugXLXgAArJO4.jpg            NaN  \n",
       "https://pbs.twimg.com/ext_tw_video_thumb/807106...     Stephan  \n",
       "https://pbs.twimg.com/media/DAZAUfBXcAAG_Nn.jpg         Jamesy  \n",
       "https://pbs.twimg.com/ext_tw_video_thumb/739238...         NaN  \n",
       "https://pbs.twimg.com/ext_tw_video_thumb/879415...     Duddles  \n",
       "https://pbs.twimg.com/media/C12whDoVEAALRxa.jpg             Bo  \n",
       "https://pbs.twimg.com/ext_tw_video_thumb/859196...         NaN  \n",
       "https://pbs.twimg.com/media/DBQwlFCXkAACSkI.jpg           Zoey  \n",
       "https://pbs.twimg.com/ext_tw_video_thumb/678399...         NaN  \n",
       "https://pbs.twimg.com/media/CWJqN9iWwAAg86R.jpg        Kenneth  \n",
       "https://pbs.twimg.com/media/CzG425nWgAAnP7P.jpg            NaN  \n",
       "https://pbs.twimg.com/media/DC5YqoQW0AArOLH.jpg            Aja  \n",
       "https://pbs.twimg.com/media/DEfjEaNXkAAtPlj.jpg           Earl  \n",
       "https://pbs.twimg.com/media/C_bIo7QXYAAGfPu.jpg            NaN  \n",
       "https://pbs.twimg.com/media/C4bTH6nWMAAX_bJ.jpg          Lilly  \n",
       "https://pbs.twimg.com/media/DFDw2tyUQAAAFke.jpg         Canela  \n",
       "https://pbs.twimg.com/media/DA7iHL5U0AA1OQo.jpg         Walter  \n",
       "https://pbs.twimg.com/media/DFyBahAVwAAhUTd.jpg            NaN  \n",
       "https://pbs.twimg.com/media/C3TjvitXAAAI-QH.jpg            NaN  \n",
       "https://pbs.twimg.com/media/C4E99ygWcAAQpPs.jpg         Dexter  \n",
       "https://pbs.twimg.com/media/CiyHLocU4AI2pJu.jpg            NaN  \n",
       "https://pbs.twimg.com/ext_tw_video_thumb/817827...       Buddy  \n",
       "https://pbs.twimg.com/ext_tw_video_thumb/795464...         NaN  \n",
       "https://pbs.twimg.com/media/DAXXDQNXgAAoYQH.jpg           Coco  \n",
       "https://pbs.twimg.com/ext_tw_video_thumb/761672...         NaN  \n",
       "https://pbs.twimg.com/media/DDxPFwbWAAEbVVR.jpg           Gary  \n",
       "https://pbs.twimg.com/ext_tw_video_thumb/881535...         NaN  \n",
       "https://pbs.twimg.com/media/C12x-JTVIAAzdfl.jpg          Sunny  \n",
       "https://pbs.twimg.com/media/CUIzWk_UwAAfUNq.jpg          Pipsy  \n",
       "...                                                        ...  \n",
       "https://pbs.twimg.com/media/CUdqjvAWUAANfoU.jpg         Kallie  \n",
       "https://pbs.twimg.com/media/CT9cx0tUEAAhNN_.jpg            NaN  \n",
       "https://pbs.twimg.com/media/CUOTFZOW4AABsfW.jpg            NaN  \n",
       "https://pbs.twimg.com/media/CUNHMXTU8AAS3HH.jpg          Reese  \n",
       "https://pbs.twimg.com/media/CT9OwFIWEAMuRje.jpg            NaN  \n",
       "https://pbs.twimg.com/media/CUMOyd3XIAAl13H.jpg           Fwed  \n",
       "https://pbs.twimg.com/media/CUJK18UWEAEg7AR.jpg            NaN  \n",
       "https://pbs.twimg.com/media/CUHREBXXAAE6A9b.jpg            NaN  \n",
       "https://pbs.twimg.com/media/CT9vZEYWUAAlZ05.jpg            NaN  \n",
       "https://pbs.twimg.com/media/CUCQTpEWEAA7EDz.jpg     Christoper  \n",
       "https://pbs.twimg.com/media/CT8T1mtUwAA3aqm.jpg            NaN  \n",
       "https://pbs.twimg.com/media/CT-D2ZHWIAA3gK1.jpg            NaN  \n",
       "https://pbs.twimg.com/media/CUHkkJpXIAA2w3n.jpg            NaN  \n",
       "https://pbs.twimg.com/media/CT5w9gUW4AAsBNN.jpg            NaN  \n",
       "https://pbs.twimg.com/media/CT-g-0DUwAEQdSn.jpg            NaN  \n",
       "https://pbs.twimg.com/media/CT-nsTQWEAEkyDn.jpg            NaN  \n",
       "https://pbs.twimg.com/media/CT51-JJUEAA6hV8.jpg            NaN  \n",
       "https://pbs.twimg.com/media/CT5cN_3WEAAlOoZ.jpg            NaN  \n",
       "https://pbs.twimg.com/media/CT5Jof1WUAEuVxN.jpg            NaN  \n",
       "https://pbs.twimg.com/media/CT42GRgUYAA5iDo.jpg            NaN  \n",
       "https://pbs.twimg.com/media/CT-YWb7U8AA7QnN.jpg         Walter  \n",
       "https://pbs.twimg.com/media/CT-pKmRWIAAxUWj.jpg            NaN  \n",
       "https://pbs.twimg.com/media/CT8QCd1WEAADXws.jpg            NaN  \n",
       "https://pbs.twimg.com/media/CT4521TWwAEvMyu.jpg            NaN  \n",
       "https://pbs.twimg.com/media/CT5Qw94XAAA_2dP.jpg            NaN  \n",
       "https://pbs.twimg.com/media/CT-NvwmW4AAugGZ.jpg            NaN  \n",
       "https://pbs.twimg.com/media/CT5m4VGWEAAtKc8.jpg            NaN  \n",
       "https://pbs.twimg.com/media/CT-yU5QWwAEjLX5.jpg          Scout  \n",
       "https://pbs.twimg.com/media/CT5IQmsXIAAKY4A.jpg            NaN  \n",
       "https://pbs.twimg.com/media/CT54YGiWUAEZnoK.jpg            NaN  \n",
       "\n",
       "[1941 rows x 3 columns]"
      ]
     },
     "execution_count": 258,
     "metadata": {},
     "output_type": "execute_result"
    }
   ],
   "source": [
    "# Grouping to get dog with the most favourite count\n",
    "df.groupby(['jpg_url'])['favorites','life_stage', 'name'].max().sort_values('favorites', ascending=False)"
   ]
  },
  {
   "cell_type": "markdown",
   "metadata": {},
   "source": [
    "### 7  Insights\n",
    "1. The life stage of the dog with the most favourite count came from the Doggo life stage. This might generally mean that people are more drawn to dogs in that development stage.\n",
    "\n",
    "2. Owners of dogs who posted about their dogs and included the life stages of the dogs feel best about the dogs in the pupper life stage, getting a sum total of 2,127 votes by owners. This might give an insight to business owners who sell or keep dogs as to which which developmental stage of dogs to focus more on or market to certain digital spaces.\n",
    "\n",
    "3. There were more posts without the life stages of their dogs included. This might have affected the statistics because a lot of dogs in different developmental stages could not be accounted for in the above insights.\n",
    "\n",
    "4. Having the life stage of the dog included in the post does not neccesserily connote a high favourite count.\n",
    "\n",
    "5. There is a high positive correlation between the favourite counts and the number of times a post is retweeted with a value of 0.9.\n",
    "\n",
    "6. The name of the dog with the most favourite count is not given, but it has a url by a picture of it can be accessed and it is again from the doggo life stage."
   ]
  }
 ],
 "metadata": {
  "extensions": {
   "jupyter_dashboards": {
    "activeView": "report_default",
    "version": 1,
    "views": {
     "grid_default": {
      "cellMargin": 10,
      "defaultCellHeight": 20,
      "maxColumns": 12,
      "name": "grid",
      "type": "grid"
     },
     "report_default": {
      "name": "report",
      "type": "report"
     }
    }
   }
  },
  "kernelspec": {
   "display_name": "Python 3 (ipykernel)",
   "language": "python",
   "name": "python3"
  },
  "language_info": {
   "codemirror_mode": {
    "name": "ipython",
    "version": 3
   },
   "file_extension": ".py",
   "mimetype": "text/x-python",
   "name": "python",
   "nbconvert_exporter": "python",
   "pygments_lexer": "ipython3",
   "version": "3.9.7"
  },
  "toc": {
   "base_numbering": 1,
   "nav_menu": {},
   "number_sections": false,
   "sideBar": true,
   "skip_h1_title": false,
   "title_cell": "Table of Contents",
   "title_sidebar": "Contents",
   "toc_cell": false,
   "toc_position": {},
   "toc_section_display": true,
   "toc_window_display": true
  }
 },
 "nbformat": 4,
 "nbformat_minor": 2
}
